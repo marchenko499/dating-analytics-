{
 "cells": [
  {
   "cell_type": "code",
   "execution_count": 1,
   "metadata": {},
   "outputs": [],
   "source": [
    "import pandas as pd\n",
    "import numpy as np\n",
    "import seaborn as sns\n",
    "import matplotlib.pyplot as plt\n",
    "from scipy import stats\n",
    "from scipy.stats import chi2_contingency\n",
    "from statsmodels.stats.multicomp import (pairwise_tukeyhsd, MultiComparison)\n",
    "from ast import literal_eval\n",
    "import pingouin as pg\n",
    "from statsmodels.stats.weightstats import ztest\n",
    "\n",
    "import pingouin as pg\n",
    "%matplotlib inline"
   ]
  },
  {
   "cell_type": "code",
   "execution_count": 2,
   "metadata": {},
   "outputs": [],
   "source": [
    "# Общая настройка графиков\n",
    "sns.set(\n",
    "    font_scale=1,\n",
    "    style=\"whitegrid\",\n",
    "    rc={'figure.figsize':(20,7)}\n",
    "        )"
   ]
  },
  {
   "cell_type": "markdown",
   "metadata": {},
   "source": [
    "# Часть 1. Исследование данных."
   ]
  },
  {
   "cell_type": "code",
   "execution_count": 3,
   "metadata": {
    "scrolled": true
   },
   "outputs": [],
   "source": [
    "# Читаю данные\n",
    "users_test = pd.read_csv('data/Проект_3_users_test.csv', sep=';')\n",
    "users_control_1 = pd.read_csv('data/Проект_3_users_control_1.csv', sep=';')\n",
    "users_control_2 = pd.read_csv('data/Проект_3_users_control_2.csv', sep=';')\n",
    "transactions_test = pd.read_csv('data/Проект_3_transactions_test.csv', sep=';')\n",
    "transactions_control_1 = pd.read_csv('data/Проект_3_transactions_control_1.csv', sep=';')\n",
    "transactions_control_2 = pd.read_csv('data/Проект_3_transactions_control_2.csv', sep=';')"
   ]
  },
  {
   "cell_type": "code",
   "execution_count": 4,
   "metadata": {},
   "outputs": [
    {
     "name": "stdout",
     "output_type": "stream",
     "text": [
      "В датафрейме users_test 4308 строк\n",
      "В датафрейме users_control_1 4340 строк\n",
      "В датафрейме users_control_2 4264 строк\n",
      "В датафрейме transactions_test 273 строк\n",
      "В датафрейме transactions_control_1 1007 строк\n",
      "В датафрейме transactions_control_2 328 строк\n"
     ]
    }
   ],
   "source": [
    "print(f\"В датафрейме users_test {users_test.shape[0]} строк\")\n",
    "print(f\"В датафрейме users_control_1 {users_control_1.shape[0]} строк\")\n",
    "print(f\"В датафрейме users_control_2 {users_control_2.shape[0]} строк\")\n",
    "print(f\"В датафрейме transactions_test {transactions_test.shape[0]} строк\")\n",
    "print(f\"В датафрейме transactions_control_1 {transactions_control_1.shape[0]} строк\")\n",
    "print(f\"В датафрейме transactions_control_2 {transactions_control_2.shape[0]} строк\")"
   ]
  },
  {
   "cell_type": "code",
   "execution_count": 5,
   "metadata": {},
   "outputs": [
    {
     "name": "stderr",
     "output_type": "stream",
     "text": [
      "/opt/tljh/user/lib/python3.7/site-packages/outdated/utils.py:18: OutdatedCacheFailedWarning: Failed to use cache while checking for outdated package.\n",
      "Set the environment variable OUTDATED_RAISE_EXCEPTION=1 for a full traceback.\n",
      "Set the environment variable OUTDATED_IGNORE=1 to disable these warnings.\n",
      "  **kwargs\n",
      "/opt/tljh/user/lib/python3.7/site-packages/outdated/utils.py:18: OutdatedPackageWarning: The package pingouin is out of date. Your version is 0.4.0, the latest is 0.5.3.\n",
      "Set the environment variable OUTDATED_IGNORE=1 to disable these warnings.\n",
      "  **kwargs\n",
      "/opt/tljh/user/lib/python3.7/site-packages/outdated/utils.py:18: OutdatedPackageWarning: The package outdated is out of date. Your version is 0.2.1, the latest is 0.2.2.\n",
      "Set the environment variable OUTDATED_IGNORE=1 to disable these warnings.\n",
      "  **kwargs\n"
     ]
    },
    {
     "data": {
      "text/plain": [
       "uid                    0\n",
       "age                    0\n",
       "attraction_coeff       0\n",
       "coins               4259\n",
       "country                0\n",
       "visit_days          1330\n",
       "gender                 0\n",
       "age_filter_start       0\n",
       "age_filter_end         0\n",
       "views_count            0\n",
       "was_premium         3900\n",
       "is_premium          4151\n",
       "total_revenue          0\n",
       "dtype: int64"
      ]
     },
     "execution_count": 5,
     "metadata": {},
     "output_type": "execute_result"
    }
   ],
   "source": [
    "users_test.isnull().sum()"
   ]
  },
  {
   "cell_type": "code",
   "execution_count": 6,
   "metadata": {},
   "outputs": [
    {
     "data": {
      "text/plain": [
       "uid                    0\n",
       "age                    0\n",
       "attraction_coeff       0\n",
       "coins               4280\n",
       "country                0\n",
       "visit_days          1324\n",
       "gender                 0\n",
       "age_filter_start       0\n",
       "age_filter_end         0\n",
       "views_count            0\n",
       "was_premium         3904\n",
       "is_premium          4148\n",
       "total_revenue          0\n",
       "dtype: int64"
      ]
     },
     "execution_count": 6,
     "metadata": {},
     "output_type": "execute_result"
    }
   ],
   "source": [
    "users_control_1.isnull().sum()"
   ]
  },
  {
   "cell_type": "code",
   "execution_count": 7,
   "metadata": {
    "scrolled": true
   },
   "outputs": [
    {
     "data": {
      "text/plain": [
       "uid                    0\n",
       "age                    0\n",
       "attraction_coeff       0\n",
       "coins               4203\n",
       "country                0\n",
       "visit_days          1364\n",
       "gender                 0\n",
       "age_filter_start       0\n",
       "age_filter_end         0\n",
       "views_count            0\n",
       "was_premium         3853\n",
       "is_premium          4073\n",
       "total_revenue          0\n",
       "dtype: int64"
      ]
     },
     "execution_count": 7,
     "metadata": {},
     "output_type": "execute_result"
    }
   ],
   "source": [
    "users_control_2.isnull().sum()"
   ]
  },
  {
   "cell_type": "markdown",
   "metadata": {},
   "source": [
    "В таблицах с юзерами не наблюдаю аномалий. Много пропусков в coins, т.к не у всех пользователей есть внутренняя валюта, пропуски в visit_days, т.к не все пользователи хоть раз использовали приложение, пропуски в was/is premium, т.к не все покупают подписку."
   ]
  },
  {
   "cell_type": "code",
   "execution_count": 8,
   "metadata": {},
   "outputs": [
    {
     "data": {
      "text/plain": [
       "uid             0\n",
       "country         0\n",
       "joined_at       0\n",
       "paid_at         0\n",
       "revenue         0\n",
       "payment_id      0\n",
       "from_page       0\n",
       "product_type    0\n",
       "dtype: int64"
      ]
     },
     "execution_count": 8,
     "metadata": {},
     "output_type": "execute_result"
    }
   ],
   "source": [
    "transactions_test.isnull().sum()"
   ]
  },
  {
   "cell_type": "code",
   "execution_count": 9,
   "metadata": {
    "scrolled": true
   },
   "outputs": [
    {
     "data": {
      "text/plain": [
       "uid             630\n",
       "country         630\n",
       "joined_at         0\n",
       "paid_at           0\n",
       "revenue         630\n",
       "payment_id      630\n",
       "from_page       630\n",
       "product_type    630\n",
       "dtype: int64"
      ]
     },
     "execution_count": 9,
     "metadata": {},
     "output_type": "execute_result"
    }
   ],
   "source": [
    "transactions_control_1.isnull().sum()"
   ]
  },
  {
   "cell_type": "code",
   "execution_count": 10,
   "metadata": {},
   "outputs": [
    {
     "data": {
      "text/plain": [
       "uid             0\n",
       "country         0\n",
       "joined_at       0\n",
       "paid_at         0\n",
       "revenue         0\n",
       "payment_id      0\n",
       "from_page       0\n",
       "product_type    0\n",
       "dtype: int64"
      ]
     },
     "execution_count": 10,
     "metadata": {},
     "output_type": "execute_result"
    }
   ],
   "source": [
    "transactions_control_2.isnull().sum()"
   ]
  },
  {
   "cell_type": "markdown",
   "metadata": {},
   "source": [
    "В таблице transactions_control_1 явно что-то сломалось, дропну пустые значения. В остальных таблицах пропуски отсутствуют."
   ]
  },
  {
   "cell_type": "code",
   "execution_count": 11,
   "metadata": {},
   "outputs": [],
   "source": [
    "transactions_control_1 = transactions_control_1.dropna()"
   ]
  },
  {
   "cell_type": "code",
   "execution_count": 12,
   "metadata": {},
   "outputs": [],
   "source": [
    "# Подготавливаю данные с пользователями\n",
    "users_control_2['Group'] = 'control_2'\n",
    "users_control_1['Group'] = 'control_1'\n",
    "users_test['Group'] = 'test'\n",
    "\n",
    "users_control = pd.concat([users_control_1, users_control_2])\n",
    "users = pd.concat([users_control, users_test])\n",
    "\n",
    "# Подготавливаю данные с транзакциями\n",
    "transactions_test['group'] = 'test'\n",
    "transactions_control_1['group'] = 'control_1'\n",
    "transactions_control_2['group'] = 'control_2'\n",
    "\n",
    "transactions_control = pd.concat([transactions_control_1, transactions_control_2])\n",
    "transactions = pd.concat([transactions_test, transactions_control_1, transactions_control_2])\n"
   ]
  },
  {
   "cell_type": "markdown",
   "metadata": {},
   "source": [
    "Поскольку изменения цены произошло не во всех странах, а только в некоторых, то начать изучение хотелось бы именно с них."
   ]
  },
  {
   "cell_type": "code",
   "execution_count": 13,
   "metadata": {
    "scrolled": false
   },
   "outputs": [
    {
     "name": "stdout",
     "output_type": "stream",
     "text": [
      "В контрольных группах пользователей 58 стран \n",
      "\n",
      "['United States of America' 'France' 'Argentina' 'Chile' 'Italy'\n",
      " 'Australia' 'Germany' 'Spain' 'Israel' 'United Kingdom (Great Britain)'\n",
      " 'United Arab Emirates' 'Belgium' 'Portugal' 'Canada' 'Switzerland'\n",
      " 'Russian Federation' 'India' 'Egypt' 'Venezuela' 'Puerto Rico' 'Algeria'\n",
      " 'Costa Rica' 'Ukraine' 'Mexico' 'Tunisia' 'Colombia' 'Sweden' 'Turkey'\n",
      " 'Panama' 'Romania' 'China' 'Armenia' 'Dominican Republic' 'Kyrgyzstan'\n",
      " 'Peru' 'Moldova, Republic of' 'Jamaica' 'Philippines' 'Burkina Faso'\n",
      " 'Qatar' 'Pakistan' 'Austria' 'Morocco' 'Uruguay' 'Georgia' 'Hungary'\n",
      " 'New Zealand' 'Malaysia' 'Mali' 'Nicaragua' 'Belarus' 'Czech Republic'\n",
      " 'Uganda' 'Tajikistan' 'Kuwait' 'Somalia' 'Paraguay' 'Lithuania']\n",
      "\n",
      " В тестовой группе пользователей 51 стран \n",
      "\n",
      "['United States of America' 'Germany' 'Israel' 'France' 'Spain'\n",
      " 'Australia' 'Italy' 'Argentina' 'Belgium' 'Azerbaijan' 'Chile' 'Portugal'\n",
      " 'United Kingdom (Great Britain)' 'United Arab Emirates' 'Morocco'\n",
      " 'Guatemala' 'Canada' 'Ukraine' 'Nepal' 'Switzerland' 'Indonesia'\n",
      " 'Tunisia' 'Tajikistan' 'Uzbekistan' 'Monaco' 'Mexico' 'Latvia' 'Bolivia'\n",
      " 'Turkey' 'Russian Federation' 'Islamic Republic of Iran' 'Brazil' 'India'\n",
      " 'Puerto Rico' 'Korea, Republic of' 'Hungary' 'Uruguay' 'Singapore'\n",
      " 'Romania' 'Peru' 'Kyrgyzstan' 'Iraq' 'Egypt' 'Algeria' 'Gambia'\n",
      " 'Pakistan' 'Philippines' 'Colombia' 'Georgia' 'Dominican Republic'\n",
      " 'Costa Rica']\n",
      "\n",
      "\n",
      "В контрольных группах транзакций 21 стран \n",
      "\n",
      "['France' 'Israel' 'Italy' 'United States of America' 'Australia' 'Chile'\n",
      " 'India' 'United Arab Emirates' 'United Kingdom (Great Britain)'\n",
      " 'Argentina' 'Switzerland' 'Canada' 'Turkey' 'Portugal' 'Germany'\n",
      " 'Russian Federation' 'Spain' 'Belgium' 'Lithuania' 'Ukraine' 'Austria']\n",
      "\n",
      " В тестовой группе транзакций 17 стран \n",
      "\n",
      "['Italy' 'United States of America' 'Canada' 'Spain'\n",
      " 'United Arab Emirates' 'Argentina' 'Latvia' 'France'\n",
      " 'United Kingdom (Great Britain)' 'Israel' 'Switzerland' 'Germany'\n",
      " 'Belgium' 'Chile' 'Australia' 'Mexico' 'Turkey']\n"
     ]
    }
   ],
   "source": [
    "print(f\"В контрольных группах пользователей {users_control.country.nunique()} стран \\n\")\n",
    "print(users_control.country.unique())\n",
    "print(f\"\\n В тестовой группе пользователей {users_test.country.nunique()} стран \\n\")\n",
    "print(users_test.country.unique())\n",
    "print(\"\\n\")\n",
    "print(f\"В контрольных группах транзакций {transactions_control.country.nunique()} стран \\n\")\n",
    "print(transactions_control.country.unique())\n",
    "print(f\"\\n В тестовой группе транзакций {transactions_test.country.nunique()} стран \\n\")\n",
    "print(transactions_test.country.unique())"
   ]
  },
  {
   "cell_type": "markdown",
   "metadata": {},
   "source": [
    "Можно заметить, что в тестовой группе меньше стран, чем в контрольной. Самое интересное, что в таблицах с транзакциями стран примерно в 2 раза меньше. Теперь хотелось бы посмотреть одни и те же ли пользователи в таблицах. Если нет, то можно предположить, что в таблицах есть какие-то ошибки. "
   ]
  },
  {
   "cell_type": "code",
   "execution_count": 14,
   "metadata": {},
   "outputs": [
    {
     "data": {
      "text/plain": [
       "273"
      ]
     },
     "execution_count": 14,
     "metadata": {},
     "output_type": "execute_result"
    }
   ],
   "source": [
    "transactions_test.shape[0]"
   ]
  },
  {
   "cell_type": "code",
   "execution_count": 15,
   "metadata": {},
   "outputs": [
    {
     "data": {
      "text/plain": [
       "273"
      ]
     },
     "execution_count": 15,
     "metadata": {},
     "output_type": "execute_result"
    }
   ],
   "source": [
    "transactions_test.merge(users_test, how = 'left', on = 'uid').shape[0]"
   ]
  },
  {
   "cell_type": "code",
   "execution_count": 16,
   "metadata": {},
   "outputs": [
    {
     "data": {
      "text/plain": [
       "705"
      ]
     },
     "execution_count": 16,
     "metadata": {},
     "output_type": "execute_result"
    }
   ],
   "source": [
    "transactions_control.shape[0]"
   ]
  },
  {
   "cell_type": "code",
   "execution_count": 17,
   "metadata": {},
   "outputs": [
    {
     "data": {
      "text/plain": [
       "705"
      ]
     },
     "execution_count": 17,
     "metadata": {},
     "output_type": "execute_result"
    }
   ],
   "source": [
    "transactions_control.merge(users_control, how = 'left', on = 'uid').shape[0]"
   ]
  },
  {
   "cell_type": "markdown",
   "metadata": {},
   "source": [
    "Пользователи внутри таблиц являются одинаковыми, однако в данных по юзерам гораздо больше строк. Делаю предположение, что большинство клиентов являются не платящими, поэтому и многие страны отсутствуют в таблицах с транзакциями."
   ]
  },
  {
   "cell_type": "code",
   "execution_count": 18,
   "metadata": {},
   "outputs": [
    {
     "data": {
      "text/html": [
       "<div>\n",
       "<style scoped>\n",
       "    .dataframe tbody tr th:only-of-type {\n",
       "        vertical-align: middle;\n",
       "    }\n",
       "\n",
       "    .dataframe tbody tr th {\n",
       "        vertical-align: top;\n",
       "    }\n",
       "\n",
       "    .dataframe thead th {\n",
       "        text-align: right;\n",
       "    }\n",
       "</style>\n",
       "<table border=\"1\" class=\"dataframe\">\n",
       "  <thead>\n",
       "    <tr style=\"text-align: right;\">\n",
       "      <th></th>\n",
       "      <th>uid</th>\n",
       "      <th>country</th>\n",
       "      <th>joined_at</th>\n",
       "      <th>paid_at</th>\n",
       "      <th>revenue</th>\n",
       "      <th>payment_id</th>\n",
       "      <th>from_page</th>\n",
       "      <th>product_type</th>\n",
       "      <th>group</th>\n",
       "    </tr>\n",
       "  </thead>\n",
       "  <tbody>\n",
       "  </tbody>\n",
       "</table>\n",
       "</div>"
      ],
      "text/plain": [
       "Empty DataFrame\n",
       "Columns: [uid, country, joined_at, paid_at, revenue, payment_id, from_page, product_type, group]\n",
       "Index: []"
      ]
     },
     "execution_count": 18,
     "metadata": {},
     "output_type": "execute_result"
    }
   ],
   "source": [
    "transactions_test.query(\"revenue == 0\")"
   ]
  },
  {
   "cell_type": "code",
   "execution_count": 19,
   "metadata": {},
   "outputs": [
    {
     "data": {
      "text/html": [
       "<div>\n",
       "<style scoped>\n",
       "    .dataframe tbody tr th:only-of-type {\n",
       "        vertical-align: middle;\n",
       "    }\n",
       "\n",
       "    .dataframe tbody tr th {\n",
       "        vertical-align: top;\n",
       "    }\n",
       "\n",
       "    .dataframe thead th {\n",
       "        text-align: right;\n",
       "    }\n",
       "</style>\n",
       "<table border=\"1\" class=\"dataframe\">\n",
       "  <thead>\n",
       "    <tr style=\"text-align: right;\">\n",
       "      <th></th>\n",
       "      <th>uid</th>\n",
       "      <th>country</th>\n",
       "      <th>joined_at</th>\n",
       "      <th>paid_at</th>\n",
       "      <th>revenue</th>\n",
       "      <th>payment_id</th>\n",
       "      <th>from_page</th>\n",
       "      <th>product_type</th>\n",
       "      <th>group</th>\n",
       "    </tr>\n",
       "  </thead>\n",
       "  <tbody>\n",
       "  </tbody>\n",
       "</table>\n",
       "</div>"
      ],
      "text/plain": [
       "Empty DataFrame\n",
       "Columns: [uid, country, joined_at, paid_at, revenue, payment_id, from_page, product_type, group]\n",
       "Index: []"
      ]
     },
     "execution_count": 19,
     "metadata": {},
     "output_type": "execute_result"
    }
   ],
   "source": [
    "transactions_control.query(\"revenue == 0\")"
   ]
  },
  {
   "cell_type": "markdown",
   "metadata": {},
   "source": [
    "Да, в таблицах с транзакциями отсутствуют какие-либо операции с 0 доходом. \n",
    "\n",
    "Для начала отфильтрую наши данные по странам. Возьму только страны, которые есть в тестовой и в контрольных группах транзакций, анализировать буду по ним. "
   ]
  },
  {
   "cell_type": "code",
   "execution_count": 20,
   "metadata": {},
   "outputs": [],
   "source": [
    "# Передаю переменным все страны из таблиц с транзакциями тестовой и контрольных групп\n",
    "test_country = list(transactions_test.country.unique())\n",
    "control_country = list(transactions_control.country.unique())\n",
    "\n",
    "# Передаю в переменную пересечение стран, этот список буду использовать для фильтрации\n",
    "country_filter = list(set(test_country) & set(control_country))\n",
    "\n",
    "\n",
    "# Фильтрую данные с пользователями\n",
    "users_control_2 = users_control_2.query(\"country in @country_filter\")\n",
    "users_control_1 = users_control_1.query(\"country in @country_filter\")\n",
    "users_test = users_test.query(\"country in @country_filter\")\n",
    "\n",
    "users_control = pd.concat([users_control_1, users_control_2])\n",
    "users = pd.concat([users_control, users_test])\n",
    "\n",
    "# Фильтрую данные с транзакциями\n",
    "transactions_test = transactions_test.query(\"country in @country_filter\")\n",
    "transactions_control_1  = transactions_control_1.query(\"country in @country_filter\")\n",
    "transactions_control_2  = transactions_control_2.query(\"country in @country_filter\")\n",
    "\n",
    "transactions_control = pd.concat([transactions_control_1, transactions_control_2])\n",
    "transactions = pd.concat([transactions_test, transactions_control_1, transactions_control_2])"
   ]
  },
  {
   "cell_type": "code",
   "execution_count": 21,
   "metadata": {},
   "outputs": [],
   "source": [
    "country_groupped = users_control.groupby(['country', 'Group'], as_index=False) \\\n",
    "    .agg(count=('uid', 'count'))"
   ]
  },
  {
   "cell_type": "code",
   "execution_count": 22,
   "metadata": {},
   "outputs": [
    {
     "data": {
      "text/plain": [
       "<matplotlib.legend.Legend at 0x7f87987314a8>"
      ]
     },
     "execution_count": 22,
     "metadata": {},
     "output_type": "execute_result"
    },
    {
     "data": {
      "image/png": "[encoded data removed]",
      "text/plain": [
       "<Figure size 1080x1080 with 1 Axes>"
      ]
     },
     "metadata": {},
     "output_type": "display_data"
    }
   ],
   "source": [
    "plt.figure(figsize=(15, 15))\n",
    "sns.pointplot(data=country_groupped, x='Group', y='count', hue='country')\n",
    "plt.title('Сравнения количества пользователей в двух группах по странам')\n",
    "plt.ylabel('Пользователи')\n",
    "plt.xlabel('Группа')\n",
    "plt.legend(title='Страна')"
   ]
  },
  {
   "cell_type": "markdown",
   "metadata": {},
   "source": [
    "Визуально сплитование по странам отработало корректно. Можно отметить, что в нашем эксперименте наибольшее количество пользователей из США, а наименьшее из Турции. Проверю также статистически при помощи таблицы сопряженности."
   ]
  },
  {
   "cell_type": "code",
   "execution_count": 23,
   "metadata": {},
   "outputs": [],
   "source": [
    "country_cross = pd.crosstab(users_control.country, users_control.Group)"
   ]
  },
  {
   "cell_type": "code",
   "execution_count": 24,
   "metadata": {},
   "outputs": [
    {
     "name": "stdout",
     "output_type": "stream",
     "text": [
      "p-value: 0.551229604440158\n"
     ]
    }
   ],
   "source": [
    "res = chi2_contingency(country_cross[['control_1', 'control_2']])\n",
    "print(f\"p-value: {res[1]}\")"
   ]
  },
  {
   "cell_type": "markdown",
   "metadata": {},
   "source": [
    "H0 - Нет статистически значимой связи между группами пользователей и страной.\n",
    "\n",
    "H1 - Существует статистически значимая связь между группами пользователей и страной.\n",
    "\n",
    "P-value > 0.05 => не можем отклонить нулевую гипотезу, которая гласит, что нет статистически значимой связи между группами пользователей и страной. Делаю вывод, что в данном кейсе сплитование по странам отработало корректно.\n",
    "\n",
    "Вслед за исследованием стран хотелось бы рассмотреть подробнее временной промежуток. "
   ]
  },
  {
   "cell_type": "code",
   "execution_count": 25,
   "metadata": {},
   "outputs": [
    {
     "name": "stdout",
     "output_type": "stream",
     "text": [
      "Самая ранняя регистрация в тестовой группе: 2017-01-11 03:07:00 \n",
      "Крайняя регистрация в тестовой группе: 2017-10-31 23:40:00\n",
      "\n",
      "Самая ранняя регистрация в контрольной группе: 2017-01-11 01:06:00 \n",
      "Крайняя регистрация в контрольной группе: 2017-10-31 22:17:00\n",
      "\n",
      "Самая ранняя транзакция в тестовой группе: 2017-01-11 04:37:00 \n",
      "Крайняя транзакция в тестовой группе: 2017-12-11 22:06:00\n",
      "\n",
      "Самая ранняя транзакция в контрольной группе: 2017-01-11 02:56:00 \n",
      "Крайняя транзакция в контрольной группе: 2017-12-11 23:28:00\n",
      "\n"
     ]
    }
   ],
   "source": [
    "print(f\"\"\"Самая ранняя регистрация в тестовой группе: {transactions_test.joined_at.min()} \n",
    "Крайняя регистрация в тестовой группе: {transactions_test.joined_at.max()}\n",
    "\n",
    "Самая ранняя регистрация в контрольной группе: {transactions_control.joined_at.min()} \n",
    "Крайняя регистрация в контрольной группе: {transactions_control.joined_at.max()}\n",
    "\n",
    "Самая ранняя транзакция в тестовой группе: {transactions_test.paid_at.min()} \n",
    "Крайняя транзакция в тестовой группе: {transactions_test.paid_at.max()}\n",
    "\n",
    "Самая ранняя транзакция в контрольной группе: {transactions_control.paid_at.min()} \n",
    "Крайняя транзакция в контрольной группе: {transactions_control.paid_at.max()}\n",
    "\"\"\")"
   ]
  },
  {
   "cell_type": "markdown",
   "metadata": {},
   "source": [
    "Можно заметить, что даты в тестовой и контрольной группе совпадают. В данном случае проблем с дизайном эксперимента мною не выявлено. Можно предположить, что тест длился с 2017-01-11 по 2017-12-11 (очень долго). \n",
    "\n",
    "Проверю нет ли неточности в датах транзакций. "
   ]
  },
  {
   "cell_type": "code",
   "execution_count": 26,
   "metadata": {},
   "outputs": [
    {
     "data": {
      "text/html": [
       "<div>\n",
       "<style scoped>\n",
       "    .dataframe tbody tr th:only-of-type {\n",
       "        vertical-align: middle;\n",
       "    }\n",
       "\n",
       "    .dataframe tbody tr th {\n",
       "        vertical-align: top;\n",
       "    }\n",
       "\n",
       "    .dataframe thead th {\n",
       "        text-align: right;\n",
       "    }\n",
       "</style>\n",
       "<table border=\"1\" class=\"dataframe\">\n",
       "  <thead>\n",
       "    <tr style=\"text-align: right;\">\n",
       "      <th></th>\n",
       "      <th>uid</th>\n",
       "      <th>paid_at</th>\n",
       "      <th>trans_count</th>\n",
       "    </tr>\n",
       "  </thead>\n",
       "  <tbody>\n",
       "    <tr>\n",
       "      <th>789</th>\n",
       "      <td>892333905.0</td>\n",
       "      <td>2017-10-16 02:08:00</td>\n",
       "      <td>5</td>\n",
       "    </tr>\n",
       "    <tr>\n",
       "      <th>178</th>\n",
       "      <td>891367521.0</td>\n",
       "      <td>2017-06-11 17:43:00</td>\n",
       "      <td>4</td>\n",
       "    </tr>\n",
       "    <tr>\n",
       "      <th>735</th>\n",
       "      <td>892236423.0</td>\n",
       "      <td>2017-10-22 22:08:00</td>\n",
       "      <td>4</td>\n",
       "    </tr>\n",
       "    <tr>\n",
       "      <th>180</th>\n",
       "      <td>891367521.0</td>\n",
       "      <td>2017-10-11 01:52:00</td>\n",
       "      <td>4</td>\n",
       "    </tr>\n",
       "    <tr>\n",
       "      <th>737</th>\n",
       "      <td>892236423.0</td>\n",
       "      <td>2017-10-23 00:14:00</td>\n",
       "      <td>3</td>\n",
       "    </tr>\n",
       "  </tbody>\n",
       "</table>\n",
       "</div>"
      ],
      "text/plain": [
       "             uid              paid_at  trans_count\n",
       "789  892333905.0  2017-10-16 02:08:00            5\n",
       "178  891367521.0  2017-06-11 17:43:00            4\n",
       "735  892236423.0  2017-10-22 22:08:00            4\n",
       "180  891367521.0  2017-10-11 01:52:00            4\n",
       "737  892236423.0  2017-10-23 00:14:00            3"
      ]
     },
     "execution_count": 26,
     "metadata": {},
     "output_type": "execute_result"
    }
   ],
   "source": [
    "pay_time = transactions.groupby(['uid', 'paid_at'], as_index = False) \\\n",
    "            .agg(trans_count = ('product_type', 'count')) \\\n",
    "            .sort_values('trans_count', ascending = False)\n",
    "pay_time.query(\"trans_count > 1\").head()"
   ]
  },
  {
   "cell_type": "markdown",
   "metadata": {},
   "source": [
    "Обратил внимание, что у некоторых пользователей есть несколько транзакций в одно и то же время. Рассмотрю данные случаи немного подробнее.\n"
   ]
  },
  {
   "cell_type": "code",
   "execution_count": 27,
   "metadata": {
    "scrolled": false
   },
   "outputs": [
    {
     "data": {
      "text/html": [
       "<div>\n",
       "<style scoped>\n",
       "    .dataframe tbody tr th:only-of-type {\n",
       "        vertical-align: middle;\n",
       "    }\n",
       "\n",
       "    .dataframe tbody tr th {\n",
       "        vertical-align: top;\n",
       "    }\n",
       "\n",
       "    .dataframe thead th {\n",
       "        text-align: right;\n",
       "    }\n",
       "</style>\n",
       "<table border=\"1\" class=\"dataframe\">\n",
       "  <thead>\n",
       "    <tr style=\"text-align: right;\">\n",
       "      <th></th>\n",
       "      <th>uid</th>\n",
       "      <th>country</th>\n",
       "      <th>joined_at</th>\n",
       "      <th>paid_at</th>\n",
       "      <th>revenue</th>\n",
       "      <th>payment_id</th>\n",
       "      <th>from_page</th>\n",
       "      <th>product_type</th>\n",
       "      <th>group</th>\n",
       "    </tr>\n",
       "  </thead>\n",
       "  <tbody>\n",
       "    <tr>\n",
       "      <th>143</th>\n",
       "      <td>891178380.0</td>\n",
       "      <td>Spain</td>\n",
       "      <td>2017-08-11 03:54:00</td>\n",
       "      <td>2017-11-14 04:33:00</td>\n",
       "      <td>12610.0</td>\n",
       "      <td>19.0</td>\n",
       "      <td>empty_likes</td>\n",
       "      <td>coins</td>\n",
       "      <td>test</td>\n",
       "    </tr>\n",
       "    <tr>\n",
       "      <th>106</th>\n",
       "      <td>891178380.0</td>\n",
       "      <td>Spain</td>\n",
       "      <td>2017-08-11 03:54:00</td>\n",
       "      <td>2017-11-14 04:33:00</td>\n",
       "      <td>3783.0</td>\n",
       "      <td>67.0</td>\n",
       "      <td>empty_likes</td>\n",
       "      <td>other_type</td>\n",
       "      <td>test</td>\n",
       "    </tr>\n",
       "    <tr>\n",
       "      <th>61</th>\n",
       "      <td>891208638.0</td>\n",
       "      <td>Israel</td>\n",
       "      <td>2017-07-11 15:43:00</td>\n",
       "      <td>2017-08-11 19:01:00</td>\n",
       "      <td>871.0</td>\n",
       "      <td>19.0</td>\n",
       "      <td>empty_likes</td>\n",
       "      <td>coins</td>\n",
       "      <td>control_2</td>\n",
       "    </tr>\n",
       "    <tr>\n",
       "      <th>83</th>\n",
       "      <td>891208638.0</td>\n",
       "      <td>Israel</td>\n",
       "      <td>2017-07-11 15:43:00</td>\n",
       "      <td>2017-08-11 19:01:00</td>\n",
       "      <td>871.0</td>\n",
       "      <td>146.0</td>\n",
       "      <td>empty_likes</td>\n",
       "      <td>coins</td>\n",
       "      <td>control_2</td>\n",
       "    </tr>\n",
       "    <tr>\n",
       "      <th>138</th>\n",
       "      <td>891216033.0</td>\n",
       "      <td>United States of America</td>\n",
       "      <td>2017-07-11 12:33:00</td>\n",
       "      <td>2017-07-11 12:47:00</td>\n",
       "      <td>6292.0</td>\n",
       "      <td>0.0</td>\n",
       "      <td>autoreply_message</td>\n",
       "      <td>premium_no_trial</td>\n",
       "      <td>control_1</td>\n",
       "    </tr>\n",
       "    <tr>\n",
       "      <th>...</th>\n",
       "      <td>...</td>\n",
       "      <td>...</td>\n",
       "      <td>...</td>\n",
       "      <td>...</td>\n",
       "      <td>...</td>\n",
       "      <td>...</td>\n",
       "      <td>...</td>\n",
       "      <td>...</td>\n",
       "      <td>...</td>\n",
       "    </tr>\n",
       "    <tr>\n",
       "      <th>304</th>\n",
       "      <td>892333905.0</td>\n",
       "      <td>Italy</td>\n",
       "      <td>2017-10-16 01:38:00</td>\n",
       "      <td>2017-10-16 02:26:00</td>\n",
       "      <td>31525.0</td>\n",
       "      <td>19.0</td>\n",
       "      <td>menu</td>\n",
       "      <td>coins</td>\n",
       "      <td>control_1</td>\n",
       "    </tr>\n",
       "    <tr>\n",
       "      <th>57</th>\n",
       "      <td>892339626.0</td>\n",
       "      <td>United States of America</td>\n",
       "      <td>2017-10-15 23:21:00</td>\n",
       "      <td>2017-10-20 18:14:00</td>\n",
       "      <td>754.0</td>\n",
       "      <td>19.0</td>\n",
       "      <td>empty_likes</td>\n",
       "      <td>coins</td>\n",
       "      <td>test</td>\n",
       "    </tr>\n",
       "    <tr>\n",
       "      <th>243</th>\n",
       "      <td>892339626.0</td>\n",
       "      <td>United States of America</td>\n",
       "      <td>2017-10-15 23:21:00</td>\n",
       "      <td>2017-10-20 18:14:00</td>\n",
       "      <td>754.0</td>\n",
       "      <td>19.0</td>\n",
       "      <td>empty_likes</td>\n",
       "      <td>coins</td>\n",
       "      <td>test</td>\n",
       "    </tr>\n",
       "    <tr>\n",
       "      <th>99</th>\n",
       "      <td>892435536.0</td>\n",
       "      <td>United States of America</td>\n",
       "      <td>2017-10-14 02:54:00</td>\n",
       "      <td>2017-10-14 16:50:00</td>\n",
       "      <td>897.0</td>\n",
       "      <td>146.0</td>\n",
       "      <td>empty_likes</td>\n",
       "      <td>coins</td>\n",
       "      <td>control_2</td>\n",
       "    </tr>\n",
       "    <tr>\n",
       "      <th>186</th>\n",
       "      <td>892435536.0</td>\n",
       "      <td>United States of America</td>\n",
       "      <td>2017-10-14 02:54:00</td>\n",
       "      <td>2017-10-14 16:50:00</td>\n",
       "      <td>897.0</td>\n",
       "      <td>19.0</td>\n",
       "      <td>empty_likes</td>\n",
       "      <td>coins</td>\n",
       "      <td>control_2</td>\n",
       "    </tr>\n",
       "  </tbody>\n",
       "</table>\n",
       "<p>133 rows × 9 columns</p>\n",
       "</div>"
      ],
      "text/plain": [
       "             uid                   country            joined_at  \\\n",
       "143  891178380.0                     Spain  2017-08-11 03:54:00   \n",
       "106  891178380.0                     Spain  2017-08-11 03:54:00   \n",
       "61   891208638.0                    Israel  2017-07-11 15:43:00   \n",
       "83   891208638.0                    Israel  2017-07-11 15:43:00   \n",
       "138  891216033.0  United States of America  2017-07-11 12:33:00   \n",
       "..           ...                       ...                  ...   \n",
       "304  892333905.0                     Italy  2017-10-16 01:38:00   \n",
       "57   892339626.0  United States of America  2017-10-15 23:21:00   \n",
       "243  892339626.0  United States of America  2017-10-15 23:21:00   \n",
       "99   892435536.0  United States of America  2017-10-14 02:54:00   \n",
       "186  892435536.0  United States of America  2017-10-14 02:54:00   \n",
       "\n",
       "                 paid_at  revenue  payment_id          from_page  \\\n",
       "143  2017-11-14 04:33:00  12610.0        19.0        empty_likes   \n",
       "106  2017-11-14 04:33:00   3783.0        67.0        empty_likes   \n",
       "61   2017-08-11 19:01:00    871.0        19.0        empty_likes   \n",
       "83   2017-08-11 19:01:00    871.0       146.0        empty_likes   \n",
       "138  2017-07-11 12:47:00   6292.0         0.0  autoreply_message   \n",
       "..                   ...      ...         ...                ...   \n",
       "304  2017-10-16 02:26:00  31525.0        19.0               menu   \n",
       "57   2017-10-20 18:14:00    754.0        19.0        empty_likes   \n",
       "243  2017-10-20 18:14:00    754.0        19.0        empty_likes   \n",
       "99   2017-10-14 16:50:00    897.0       146.0        empty_likes   \n",
       "186  2017-10-14 16:50:00    897.0        19.0        empty_likes   \n",
       "\n",
       "         product_type      group  \n",
       "143             coins       test  \n",
       "106        other_type       test  \n",
       "61              coins  control_2  \n",
       "83              coins  control_2  \n",
       "138  premium_no_trial  control_1  \n",
       "..                ...        ...  \n",
       "304             coins  control_1  \n",
       "57              coins       test  \n",
       "243             coins       test  \n",
       "99              coins  control_2  \n",
       "186             coins  control_2  \n",
       "\n",
       "[133 rows x 9 columns]"
      ]
     },
     "execution_count": 27,
     "metadata": {},
     "output_type": "execute_result"
    }
   ],
   "source": [
    "udis = list(pay_time.query(\"trans_count > 1\").uid.unique())\n",
    "paid_time = list(pay_time.query(\"trans_count > 1\").paid_at.unique())\n",
    "\n",
    "transactions.query(\"uid in @udis and paid_at in @paid_time\").sort_values('uid')"
   ]
  },
  {
   "cell_type": "markdown",
   "metadata": {},
   "source": [
    "В целом, это выглядит подозрительно. Однако данные с точностью до минут, а не секунд, поэтому трудно утверждать что-то конкретно, поскольку сделать несколько операций за минуту более чем реально. \n",
    "\n",
    "Вопрос с точностью времени можно записать в проблему проведения эксперимента.\n",
    "\n",
    "Также рассмотрю никто ли не попал одновременно в 2 группы."
   ]
  },
  {
   "cell_type": "code",
   "execution_count": 28,
   "metadata": {},
   "outputs": [
    {
     "name": "stdout",
     "output_type": "stream",
     "text": [
      "Количество пользователей, которые попали сразу в 2 группы (transactions): 0\n",
      "Количество пользователей, которые попали сразу в 2 группы (users): 0\n"
     ]
    }
   ],
   "source": [
    "# Передаю переменным все страны из таблиц с транзакциями тестовой и контрольных групп\n",
    "test_users = list(transactions_test.uid.unique())\n",
    "control_users= list(transactions_control.uid.unique())\n",
    "\n",
    "# Передаю в переменную пересечение стран, этот список буду использовать для фильтрации\n",
    "users_filter = list(set(test_users) & set(control_users))\n",
    "print(f\"Количество пользователей, которые попали сразу в 2 группы (transactions): {len(users_filter)}\")\n",
    "\n",
    "# Передаю переменным все страны из таблиц с транзакциями тестовой и контрольных групп\n",
    "test_users = list(users_test.uid.unique())\n",
    "control_users= list(users_control.uid.unique())\n",
    "\n",
    "# Передаю в переменную пересечение стран, этот список буду использовать для фильтрации\n",
    "users_filter = list(set(test_users) & set(control_users))\n",
    "print(f\"Количество пользователей, которые попали сразу в 2 группы (users): {len(users_filter)}\")"
   ]
  },
  {
   "cell_type": "markdown",
   "metadata": {},
   "source": [
    "В данном случае система сплитования отработала корректно и никакой пользователь не попал одновременно в 2 группы. \n",
    "\n",
    "Цена за подписку изменилась в нескольких странах для двух платежных систем. Нужно посмотреть на данные и найти колонку с платежной системой. "
   ]
  },
  {
   "cell_type": "code",
   "execution_count": 29,
   "metadata": {},
   "outputs": [
    {
     "data": {
      "text/html": [
       "<div>\n",
       "<style scoped>\n",
       "    .dataframe tbody tr th:only-of-type {\n",
       "        vertical-align: middle;\n",
       "    }\n",
       "\n",
       "    .dataframe tbody tr th {\n",
       "        vertical-align: top;\n",
       "    }\n",
       "\n",
       "    .dataframe thead th {\n",
       "        text-align: right;\n",
       "    }\n",
       "</style>\n",
       "<table border=\"1\" class=\"dataframe\">\n",
       "  <thead>\n",
       "    <tr style=\"text-align: right;\">\n",
       "      <th></th>\n",
       "      <th>uid</th>\n",
       "      <th>country</th>\n",
       "      <th>joined_at</th>\n",
       "      <th>paid_at</th>\n",
       "      <th>revenue</th>\n",
       "      <th>payment_id</th>\n",
       "      <th>from_page</th>\n",
       "      <th>product_type</th>\n",
       "      <th>group</th>\n",
       "    </tr>\n",
       "  </thead>\n",
       "  <tbody>\n",
       "    <tr>\n",
       "      <th>0</th>\n",
       "      <td>891345942.0</td>\n",
       "      <td>Italy</td>\n",
       "      <td>2017-05-11 13:00:00</td>\n",
       "      <td>2017-11-13 15:04:00</td>\n",
       "      <td>12909.0</td>\n",
       "      <td>147.0</td>\n",
       "      <td>trial_vip_popup</td>\n",
       "      <td>trial_premium</td>\n",
       "      <td>test</td>\n",
       "    </tr>\n",
       "  </tbody>\n",
       "</table>\n",
       "</div>"
      ],
      "text/plain": [
       "           uid country            joined_at              paid_at  revenue  \\\n",
       "0  891345942.0   Italy  2017-05-11 13:00:00  2017-11-13 15:04:00  12909.0   \n",
       "\n",
       "   payment_id        from_page   product_type group  \n",
       "0       147.0  trial_vip_popup  trial_premium  test  "
      ]
     },
     "execution_count": 29,
     "metadata": {},
     "output_type": "execute_result"
    }
   ],
   "source": [
    "transactions.head(1)"
   ]
  },
  {
   "cell_type": "code",
   "execution_count": 30,
   "metadata": {},
   "outputs": [
    {
     "data": {
      "text/plain": [
       "array([147.,  67.,  19., 146.,  68.,   0., 127.])"
      ]
     },
     "execution_count": 30,
     "metadata": {},
     "output_type": "execute_result"
    }
   ],
   "source": [
    "transactions.payment_id.unique()"
   ]
  },
  {
   "cell_type": "markdown",
   "metadata": {},
   "source": [
    "В таблице с транзакциями всего есть колонка payment_id с 7 уникальными идентификаторами. Могу предположить, что именно в этом поле находятся наши платежные системы. Изучу его немного подробнее. "
   ]
  },
  {
   "cell_type": "code",
   "execution_count": 31,
   "metadata": {
    "scrolled": false
   },
   "outputs": [
    {
     "data": {
      "text/plain": [
       "<matplotlib.legend.Legend at 0x7f877d3e6518>"
      ]
     },
     "execution_count": 31,
     "metadata": {},
     "output_type": "execute_result"
    },
    {
     "data": {
      "image/png": "[encoded data removed]",
      "text/plain": [
       "<Figure size 1440x504 with 1 Axes>"
      ]
     },
     "metadata": {},
     "output_type": "display_data"
    }
   ],
   "source": [
    "payment_id = transactions.groupby(['group', 'payment_id'], as_index = False) \\\n",
    "            .agg(count_payment_id = ('uid', 'count'))\n",
    "\n",
    "sns.barplot(data = payment_id, x = 'payment_id', y = 'count_payment_id', hue = 'group')\n",
    "plt.title('Сравнение количества по платежным системам и группам')\n",
    "plt.ylabel('Операции')\n",
    "plt.xlabel('Платежная система')\n",
    "plt.legend(title='Группа')"
   ]
  },
  {
   "cell_type": "markdown",
   "metadata": {},
   "source": [
    "Рассмотрев график количества операций по разным платежным системам можно заметить, что больше всего операций с платежной системы 147 и платежной системы 19, а меньше всего с 0. На данном графике рассмотрены все категории, визуализирую более детально только по подпискам.  "
   ]
  },
  {
   "cell_type": "code",
   "execution_count": 32,
   "metadata": {},
   "outputs": [
    {
     "data": {
      "text/plain": [
       "<matplotlib.legend.Legend at 0x7f875afbf278>"
      ]
     },
     "execution_count": 32,
     "metadata": {},
     "output_type": "execute_result"
    },
    {
     "data": {
      "image/png": "[encoded data removed]",
      "text/plain": [
       "<Figure size 1440x504 with 1 Axes>"
      ]
     },
     "metadata": {},
     "output_type": "display_data"
    }
   ],
   "source": [
    "# premium_no_trial буду также учитывать, т.к это потенциальные премиум подписчики. \n",
    "payment_id = transactions.query(\"product_type in ('trial_premium', 'premium_no_trial')\") \\\n",
    "            .groupby(['group', 'payment_id'], as_index = False) \\\n",
    "            .agg(count_payment_id = ('uid', 'count'))\n",
    "\n",
    "sns.barplot(data = payment_id, x = 'payment_id', y = 'count_payment_id', hue = 'group')\n",
    "plt.title('Сравнение количества по платежным системам и группам среди премиум подписчиков')\n",
    "plt.ylabel('Операции')\n",
    "plt.xlabel('Платежная система')\n",
    "plt.legend(title='Группа')"
   ]
  },
  {
   "cell_type": "markdown",
   "metadata": {},
   "source": [
    "Можно заметить, что премиум подписчики используют не все платежные системы в нашем эксперименте. Нельзя достоверно отметить в каких из трех платежных системах произошли изменения, однако могу предположить, что в 147 и 0 (т.к ею пользуются довольно редко, возможно захотели увеличить количество пользователей). Посмотрю также на средний чек по платежной система и группе."
   ]
  },
  {
   "cell_type": "code",
   "execution_count": 33,
   "metadata": {
    "scrolled": true
   },
   "outputs": [
    {
     "data": {
      "text/html": [
       "<style  type=\"text/css\" >\n",
       "</style><table id=\"T_9dce950c_3aa4_11ee_bdbb_96000040dfb6\" ><caption>Свод AOV по группе и платежной системе</caption><thead>    <tr>        <th class=\"index_name level0\" >group</th>        <th class=\"col_heading level0 col0\" >payment_id</th>        <th class=\"col_heading level0 col1\" >control_1</th>        <th class=\"col_heading level0 col2\" >control_2</th>        <th class=\"col_heading level0 col3\" >test</th>    </tr></thead><tbody>\n",
       "                <tr>\n",
       "                        <th id=\"T_9dce950c_3aa4_11ee_bdbb_96000040dfb6level0_row0\" class=\"row_heading level0 row0\" >0</th>\n",
       "                        <td id=\"T_9dce950c_3aa4_11ee_bdbb_96000040dfb6row0_col0\" class=\"data row0 col0\" >0.000000</td>\n",
       "                        <td id=\"T_9dce950c_3aa4_11ee_bdbb_96000040dfb6row0_col1\" class=\"data row0 col1\" >6357.000000</td>\n",
       "                        <td id=\"T_9dce950c_3aa4_11ee_bdbb_96000040dfb6row0_col2\" class=\"data row0 col2\" >4719.000000</td>\n",
       "                        <td id=\"T_9dce950c_3aa4_11ee_bdbb_96000040dfb6row0_col3\" class=\"data row0 col3\" >9217.000000</td>\n",
       "            </tr>\n",
       "            <tr>\n",
       "                        <th id=\"T_9dce950c_3aa4_11ee_bdbb_96000040dfb6level0_row1\" class=\"row_heading level0 row1\" >1</th>\n",
       "                        <td id=\"T_9dce950c_3aa4_11ee_bdbb_96000040dfb6row1_col0\" class=\"data row1 col0\" >19.000000</td>\n",
       "                        <td id=\"T_9dce950c_3aa4_11ee_bdbb_96000040dfb6row1_col1\" class=\"data row1 col1\" >6309.042017</td>\n",
       "                        <td id=\"T_9dce950c_3aa4_11ee_bdbb_96000040dfb6row1_col2\" class=\"data row1 col2\" >3277.793103</td>\n",
       "                        <td id=\"T_9dce950c_3aa4_11ee_bdbb_96000040dfb6row1_col3\" class=\"data row1 col3\" >6677.210526</td>\n",
       "            </tr>\n",
       "            <tr>\n",
       "                        <th id=\"T_9dce950c_3aa4_11ee_bdbb_96000040dfb6level0_row2\" class=\"row_heading level0 row2\" >2</th>\n",
       "                        <td id=\"T_9dce950c_3aa4_11ee_bdbb_96000040dfb6row2_col0\" class=\"data row2 col0\" >67.000000</td>\n",
       "                        <td id=\"T_9dce950c_3aa4_11ee_bdbb_96000040dfb6row2_col1\" class=\"data row2 col1\" >3338.780488</td>\n",
       "                        <td id=\"T_9dce950c_3aa4_11ee_bdbb_96000040dfb6row2_col2\" class=\"data row2 col2\" >2959.465116</td>\n",
       "                        <td id=\"T_9dce950c_3aa4_11ee_bdbb_96000040dfb6row2_col3\" class=\"data row2 col3\" >3059.333333</td>\n",
       "            </tr>\n",
       "            <tr>\n",
       "                        <th id=\"T_9dce950c_3aa4_11ee_bdbb_96000040dfb6level0_row3\" class=\"row_heading level0 row3\" >3</th>\n",
       "                        <td id=\"T_9dce950c_3aa4_11ee_bdbb_96000040dfb6row3_col0\" class=\"data row3 col0\" >68.000000</td>\n",
       "                        <td id=\"T_9dce950c_3aa4_11ee_bdbb_96000040dfb6row3_col1\" class=\"data row3 col1\" >4466.222222</td>\n",
       "                        <td id=\"T_9dce950c_3aa4_11ee_bdbb_96000040dfb6row3_col2\" class=\"data row3 col2\" >5728.272727</td>\n",
       "                        <td id=\"T_9dce950c_3aa4_11ee_bdbb_96000040dfb6row3_col3\" class=\"data row3 col3\" >6869.571429</td>\n",
       "            </tr>\n",
       "            <tr>\n",
       "                        <th id=\"T_9dce950c_3aa4_11ee_bdbb_96000040dfb6level0_row4\" class=\"row_heading level0 row4\" >4</th>\n",
       "                        <td id=\"T_9dce950c_3aa4_11ee_bdbb_96000040dfb6row4_col0\" class=\"data row4 col0\" >127.000000</td>\n",
       "                        <td id=\"T_9dce950c_3aa4_11ee_bdbb_96000040dfb6row4_col1\" class=\"data row4 col1\" >1458.600000</td>\n",
       "                        <td id=\"T_9dce950c_3aa4_11ee_bdbb_96000040dfb6row4_col2\" class=\"data row4 col2\" >nan</td>\n",
       "                        <td id=\"T_9dce950c_3aa4_11ee_bdbb_96000040dfb6row4_col3\" class=\"data row4 col3\" >nan</td>\n",
       "            </tr>\n",
       "            <tr>\n",
       "                        <th id=\"T_9dce950c_3aa4_11ee_bdbb_96000040dfb6level0_row5\" class=\"row_heading level0 row5\" >5</th>\n",
       "                        <td id=\"T_9dce950c_3aa4_11ee_bdbb_96000040dfb6row5_col0\" class=\"data row5 col0\" >146.000000</td>\n",
       "                        <td id=\"T_9dce950c_3aa4_11ee_bdbb_96000040dfb6row5_col1\" class=\"data row5 col1\" >3732.218750</td>\n",
       "                        <td id=\"T_9dce950c_3aa4_11ee_bdbb_96000040dfb6row5_col2\" class=\"data row5 col2\" >3311.413793</td>\n",
       "                        <td id=\"T_9dce950c_3aa4_11ee_bdbb_96000040dfb6row5_col3\" class=\"data row5 col3\" >3593.379310</td>\n",
       "            </tr>\n",
       "            <tr>\n",
       "                        <th id=\"T_9dce950c_3aa4_11ee_bdbb_96000040dfb6level0_row6\" class=\"row_heading level0 row6\" >6</th>\n",
       "                        <td id=\"T_9dce950c_3aa4_11ee_bdbb_96000040dfb6row6_col0\" class=\"data row6 col0\" >147.000000</td>\n",
       "                        <td id=\"T_9dce950c_3aa4_11ee_bdbb_96000040dfb6row6_col1\" class=\"data row6 col1\" >9767.907285</td>\n",
       "                        <td id=\"T_9dce950c_3aa4_11ee_bdbb_96000040dfb6row6_col2\" class=\"data row6 col2\" >9040.517986</td>\n",
       "                        <td id=\"T_9dce950c_3aa4_11ee_bdbb_96000040dfb6row6_col3\" class=\"data row6 col3\" >12504.837398</td>\n",
       "            </tr>\n",
       "    </tbody></table>"
      ],
      "text/plain": [
       "<pandas.io.formats.style.Styler at 0x7f875afbe630>"
      ]
     },
     "execution_count": 33,
     "metadata": {},
     "output_type": "execute_result"
    }
   ],
   "source": [
    "payment_id = transactions.groupby(['group', 'payment_id'], as_index = False) \\\n",
    "            .agg(AOV = ('revenue', 'mean'))\n",
    "\n",
    "payment_pivot = pd.pivot(data = payment_id,\n",
    "         index = 'payment_id',\n",
    "         columns = 'group',\n",
    "         values = 'AOV'\n",
    "        ).reset_index()\n",
    "payment_pivot = payment_pivot.style.set_caption(\"Свод AOV по группе и платежной системе\")\n",
    "payment_pivot"
   ]
  },
  {
   "cell_type": "code",
   "execution_count": 34,
   "metadata": {},
   "outputs": [
    {
     "data": {
      "text/plain": [
       "<matplotlib.legend.Legend at 0x7f875a0d72b0>"
      ]
     },
     "execution_count": 34,
     "metadata": {},
     "output_type": "execute_result"
    },
    {
     "data": {
      "image/png": "[encoded data removed]",
      "text/plain": [
       "<Figure size 1440x504 with 1 Axes>"
      ]
     },
     "metadata": {},
     "output_type": "display_data"
    }
   ],
   "source": [
    "sns.barplot(data = payment_id, x = 'payment_id', y = 'AOV', hue = 'group')\n",
    "plt.title('Сравнение среднего чека по платежным системам и группам')\n",
    "plt.ylabel('AOV')\n",
    "plt.xlabel('Платежная система')\n",
    "plt.legend(title='Группа')"
   ]
  },
  {
   "cell_type": "markdown",
   "metadata": {},
   "source": [
    "Возможно в эксперименте действительно участвует платежная система 0, т.к несмотря на малое количество транзакций она показывает хороший средний чек. Однако достоверно утверждать нельзя по этой информации, это всего лишь моя гипотеза.\n",
    "\n",
    "Построю такой же график, но для операций с подписками. "
   ]
  },
  {
   "cell_type": "code",
   "execution_count": 35,
   "metadata": {},
   "outputs": [
    {
     "data": {
      "text/plain": [
       "<matplotlib.legend.Legend at 0x7f875af6abe0>"
      ]
     },
     "execution_count": 35,
     "metadata": {},
     "output_type": "execute_result"
    },
    {
     "data": {
      "image/png": "[encoded data removed]",
      "text/plain": [
       "<Figure size 1440x504 with 1 Axes>"
      ]
     },
     "metadata": {},
     "output_type": "display_data"
    }
   ],
   "source": [
    "payment_id = transactions.query(\"product_type in ('trial_premium', 'premium_no_trial')\") \\\n",
    "            .groupby(['group', 'payment_id'], as_index = False) \\\n",
    "            .agg(AOV = ('revenue', 'mean'))\n",
    "\n",
    "sns.barplot(data = payment_id, x = 'payment_id', y = 'AOV', hue = 'group')\n",
    "plt.title('Сравнение среднего чека по платежным системам и группам среди операций с подписками')\n",
    "plt.ylabel('AOV')\n",
    "plt.xlabel('Платежная система')\n",
    "plt.legend(title='Группа')"
   ]
  },
  {
   "cell_type": "markdown",
   "metadata": {},
   "source": [
    "Тут 0 платежная система также показывает неплохой средний чек, поэтому моя гипотеза остается прежней. \n",
    "\n",
    "Теперь хочу посмотреть на выручку по группам. Буду рассматривать по транзакциям с подпиской, т.к это именно та категория, на которую распространяется изменение"
   ]
  },
  {
   "cell_type": "code",
   "execution_count": 36,
   "metadata": {
    "scrolled": false
   },
   "outputs": [
    {
     "data": {
      "text/plain": [
       "Text(0.5, 0, 'Группа')"
      ]
     },
     "execution_count": 36,
     "metadata": {},
     "output_type": "execute_result"
    },
    {
     "data": {
      "image/png": "[encoded data removed]",
      "text/plain": [
       "<Figure size 1440x504 with 1 Axes>"
      ]
     },
     "metadata": {},
     "output_type": "display_data"
    }
   ],
   "source": [
    "prem_transaction = transactions.query(\"product_type in ('trial_premium', 'premium_no_trial')\")\n",
    "sns.boxplot(data=prem_transaction, x='group', y='revenue')\n",
    "plt.xlabel('Группа')"
   ]
  },
  {
   "cell_type": "markdown",
   "metadata": {},
   "source": [
    "Медианный revenue по подпискам находится на уровне 10000 - 15000. Можно заметить, что есть выбросы и распределение скошено в правую сторону. Это довольно типичный паттерн для выручки. Попытаюсь разобраться с чем связаны сильные выбросы. Предполагаю, что это может зависеть от страны, поскольку на графике видна группа транзакций, а не одна, рассмотрю подробнее."
   ]
  },
  {
   "cell_type": "code",
   "execution_count": 37,
   "metadata": {
    "scrolled": false
   },
   "outputs": [
    {
     "data": {
      "text/html": [
       "<div>\n",
       "<style scoped>\n",
       "    .dataframe tbody tr th:only-of-type {\n",
       "        vertical-align: middle;\n",
       "    }\n",
       "\n",
       "    .dataframe tbody tr th {\n",
       "        vertical-align: top;\n",
       "    }\n",
       "\n",
       "    .dataframe thead th {\n",
       "        text-align: right;\n",
       "    }\n",
       "</style>\n",
       "<table border=\"1\" class=\"dataframe\">\n",
       "  <thead>\n",
       "    <tr style=\"text-align: right;\">\n",
       "      <th>group</th>\n",
       "      <th>country</th>\n",
       "      <th>control_1</th>\n",
       "      <th>control_2</th>\n",
       "      <th>test</th>\n",
       "    </tr>\n",
       "  </thead>\n",
       "  <tbody>\n",
       "    <tr>\n",
       "      <th>0</th>\n",
       "      <td>Argentina</td>\n",
       "      <td>8936.416667</td>\n",
       "      <td>7957.444444</td>\n",
       "      <td>10530.000000</td>\n",
       "    </tr>\n",
       "    <tr>\n",
       "      <th>1</th>\n",
       "      <td>Australia</td>\n",
       "      <td>8495.500000</td>\n",
       "      <td>7548.666667</td>\n",
       "      <td>12597.000000</td>\n",
       "    </tr>\n",
       "    <tr>\n",
       "      <th>2</th>\n",
       "      <td>Belgium</td>\n",
       "      <td>11407.500000</td>\n",
       "      <td>10635.444444</td>\n",
       "      <td>12740.000000</td>\n",
       "    </tr>\n",
       "    <tr>\n",
       "      <th>3</th>\n",
       "      <td>Canada</td>\n",
       "      <td>7785.375000</td>\n",
       "      <td>8731.666667</td>\n",
       "      <td>7843.333333</td>\n",
       "    </tr>\n",
       "    <tr>\n",
       "      <th>4</th>\n",
       "      <td>Chile</td>\n",
       "      <td>8753.875000</td>\n",
       "      <td>7538.555556</td>\n",
       "      <td>8181.333333</td>\n",
       "    </tr>\n",
       "    <tr>\n",
       "      <th>5</th>\n",
       "      <td>France</td>\n",
       "      <td>7610.777778</td>\n",
       "      <td>8840.928571</td>\n",
       "      <td>12067.466667</td>\n",
       "    </tr>\n",
       "    <tr>\n",
       "      <th>6</th>\n",
       "      <td>Germany</td>\n",
       "      <td>5053.750000</td>\n",
       "      <td>9913.800000</td>\n",
       "      <td>10495.333333</td>\n",
       "    </tr>\n",
       "    <tr>\n",
       "      <th>7</th>\n",
       "      <td>Israel</td>\n",
       "      <td>7393.750000</td>\n",
       "      <td>8697.000000</td>\n",
       "      <td>13660.400000</td>\n",
       "    </tr>\n",
       "    <tr>\n",
       "      <th>8</th>\n",
       "      <td>Italy</td>\n",
       "      <td>8915.562500</td>\n",
       "      <td>9245.166667</td>\n",
       "      <td>8012.333333</td>\n",
       "    </tr>\n",
       "    <tr>\n",
       "      <th>9</th>\n",
       "      <td>Spain</td>\n",
       "      <td>9459.125000</td>\n",
       "      <td>11927.000000</td>\n",
       "      <td>18213.000000</td>\n",
       "    </tr>\n",
       "    <tr>\n",
       "      <th>10</th>\n",
       "      <td>Switzerland</td>\n",
       "      <td>8857.333333</td>\n",
       "      <td>5282.333333</td>\n",
       "      <td>9464.000000</td>\n",
       "    </tr>\n",
       "    <tr>\n",
       "      <th>11</th>\n",
       "      <td>Turkey</td>\n",
       "      <td>23361.000000</td>\n",
       "      <td>7033.000000</td>\n",
       "      <td>3614.000000</td>\n",
       "    </tr>\n",
       "    <tr>\n",
       "      <th>12</th>\n",
       "      <td>United Arab Emirates</td>\n",
       "      <td>8216.000000</td>\n",
       "      <td>22508.200000</td>\n",
       "      <td>20369.700000</td>\n",
       "    </tr>\n",
       "    <tr>\n",
       "      <th>13</th>\n",
       "      <td>United Kingdom (Great Britain)</td>\n",
       "      <td>9092.777778</td>\n",
       "      <td>5749.250000</td>\n",
       "      <td>8476.000000</td>\n",
       "    </tr>\n",
       "    <tr>\n",
       "      <th>14</th>\n",
       "      <td>United States of America</td>\n",
       "      <td>9576.357143</td>\n",
       "      <td>7586.800000</td>\n",
       "      <td>10238.681818</td>\n",
       "    </tr>\n",
       "  </tbody>\n",
       "</table>\n",
       "</div>"
      ],
      "text/plain": [
       "group                         country     control_1     control_2  \\\n",
       "0                           Argentina   8936.416667   7957.444444   \n",
       "1                           Australia   8495.500000   7548.666667   \n",
       "2                             Belgium  11407.500000  10635.444444   \n",
       "3                              Canada   7785.375000   8731.666667   \n",
       "4                               Chile   8753.875000   7538.555556   \n",
       "5                              France   7610.777778   8840.928571   \n",
       "6                             Germany   5053.750000   9913.800000   \n",
       "7                              Israel   7393.750000   8697.000000   \n",
       "8                               Italy   8915.562500   9245.166667   \n",
       "9                               Spain   9459.125000  11927.000000   \n",
       "10                        Switzerland   8857.333333   5282.333333   \n",
       "11                             Turkey  23361.000000   7033.000000   \n",
       "12               United Arab Emirates   8216.000000  22508.200000   \n",
       "13     United Kingdom (Great Britain)   9092.777778   5749.250000   \n",
       "14           United States of America   9576.357143   7586.800000   \n",
       "\n",
       "group          test  \n",
       "0      10530.000000  \n",
       "1      12597.000000  \n",
       "2      12740.000000  \n",
       "3       7843.333333  \n",
       "4       8181.333333  \n",
       "5      12067.466667  \n",
       "6      10495.333333  \n",
       "7      13660.400000  \n",
       "8       8012.333333  \n",
       "9      18213.000000  \n",
       "10      9464.000000  \n",
       "11      3614.000000  \n",
       "12     20369.700000  \n",
       "13      8476.000000  \n",
       "14     10238.681818  "
      ]
     },
     "execution_count": 37,
     "metadata": {},
     "output_type": "execute_result"
    }
   ],
   "source": [
    "country_transactions = transactions.query(\"product_type in ('trial_premium', 'premium_no_trial')\") \\\n",
    "                                   .groupby(['group', 'country'], as_index = False) \\\n",
    "                                   .agg(aov = ('revenue', 'mean')) \\\n",
    "                                   .sort_values('aov', ascending = False)\n",
    "pd.pivot(data = country_transactions,\n",
    "         index = 'country',\n",
    "         columns = 'group',\n",
    "         values = 'aov').reset_index()"
   ]
  },
  {
   "cell_type": "markdown",
   "metadata": {},
   "source": [
    "Предполагаю, что есть ошибка в первой контрольной группе в Турции, посмотрю подробнее."
   ]
  },
  {
   "cell_type": "code",
   "execution_count": 38,
   "metadata": {},
   "outputs": [
    {
     "data": {
      "text/html": [
       "<div>\n",
       "<style scoped>\n",
       "    .dataframe tbody tr th:only-of-type {\n",
       "        vertical-align: middle;\n",
       "    }\n",
       "\n",
       "    .dataframe tbody tr th {\n",
       "        vertical-align: top;\n",
       "    }\n",
       "\n",
       "    .dataframe thead th {\n",
       "        text-align: right;\n",
       "    }\n",
       "</style>\n",
       "<table border=\"1\" class=\"dataframe\">\n",
       "  <thead>\n",
       "    <tr style=\"text-align: right;\">\n",
       "      <th></th>\n",
       "      <th>uid</th>\n",
       "      <th>country</th>\n",
       "      <th>joined_at</th>\n",
       "      <th>paid_at</th>\n",
       "      <th>revenue</th>\n",
       "      <th>payment_id</th>\n",
       "      <th>from_page</th>\n",
       "      <th>product_type</th>\n",
       "      <th>group</th>\n",
       "    </tr>\n",
       "  </thead>\n",
       "  <tbody>\n",
       "    <tr>\n",
       "      <th>57</th>\n",
       "      <td>892344951.0</td>\n",
       "      <td>Turkey</td>\n",
       "      <td>2017-10-15 21:37:00</td>\n",
       "      <td>2017-10-15 21:40:00</td>\n",
       "      <td>3614.0</td>\n",
       "      <td>147.0</td>\n",
       "      <td>autoreply_message</td>\n",
       "      <td>premium_no_trial</td>\n",
       "      <td>control_1</td>\n",
       "    </tr>\n",
       "    <tr>\n",
       "      <th>317</th>\n",
       "      <td>891383310.0</td>\n",
       "      <td>Turkey</td>\n",
       "      <td>2017-04-11 20:47:00</td>\n",
       "      <td>2017-04-11 22:17:00</td>\n",
       "      <td>63037.0</td>\n",
       "      <td>147.0</td>\n",
       "      <td>autoreply_message</td>\n",
       "      <td>premium_no_trial</td>\n",
       "      <td>control_1</td>\n",
       "    </tr>\n",
       "    <tr>\n",
       "      <th>337</th>\n",
       "      <td>891693753.0</td>\n",
       "      <td>Turkey</td>\n",
       "      <td>2017-10-29 15:24:00</td>\n",
       "      <td>2017-06-11 22:30:00</td>\n",
       "      <td>3432.0</td>\n",
       "      <td>147.0</td>\n",
       "      <td>promo_09</td>\n",
       "      <td>premium_no_trial</td>\n",
       "      <td>control_1</td>\n",
       "    </tr>\n",
       "  </tbody>\n",
       "</table>\n",
       "</div>"
      ],
      "text/plain": [
       "             uid country            joined_at              paid_at  revenue  \\\n",
       "57   892344951.0  Turkey  2017-10-15 21:37:00  2017-10-15 21:40:00   3614.0   \n",
       "317  891383310.0  Turkey  2017-04-11 20:47:00  2017-04-11 22:17:00  63037.0   \n",
       "337  891693753.0  Turkey  2017-10-29 15:24:00  2017-06-11 22:30:00   3432.0   \n",
       "\n",
       "     payment_id          from_page      product_type      group  \n",
       "57        147.0  autoreply_message  premium_no_trial  control_1  \n",
       "317       147.0  autoreply_message  premium_no_trial  control_1  \n",
       "337       147.0           promo_09  premium_no_trial  control_1  "
      ]
     },
     "execution_count": 38,
     "metadata": {},
     "output_type": "execute_result"
    }
   ],
   "source": [
    "transactions \\\n",
    "    .query(\"product_type in ('trial_premium', 'premium_no_trial') and country == 'Turkey' and group == 'control_1'\")"
   ]
  },
  {
   "cell_type": "markdown",
   "metadata": {},
   "source": [
    "Вижу одну большую транзакцию, посмотрю на другие операции с большой выручкой. "
   ]
  },
  {
   "cell_type": "code",
   "execution_count": 39,
   "metadata": {
    "scrolled": true
   },
   "outputs": [
    {
     "data": {
      "text/html": [
       "<div>\n",
       "<style scoped>\n",
       "    .dataframe tbody tr th:only-of-type {\n",
       "        vertical-align: middle;\n",
       "    }\n",
       "\n",
       "    .dataframe tbody tr th {\n",
       "        vertical-align: top;\n",
       "    }\n",
       "\n",
       "    .dataframe thead th {\n",
       "        text-align: right;\n",
       "    }\n",
       "</style>\n",
       "<table border=\"1\" class=\"dataframe\">\n",
       "  <thead>\n",
       "    <tr style=\"text-align: right;\">\n",
       "      <th></th>\n",
       "      <th>uid</th>\n",
       "      <th>country</th>\n",
       "      <th>joined_at</th>\n",
       "      <th>paid_at</th>\n",
       "      <th>revenue</th>\n",
       "      <th>payment_id</th>\n",
       "      <th>from_page</th>\n",
       "      <th>product_type</th>\n",
       "      <th>group</th>\n",
       "    </tr>\n",
       "  </thead>\n",
       "  <tbody>\n",
       "    <tr>\n",
       "      <th>12</th>\n",
       "      <td>891178380.0</td>\n",
       "      <td>Spain</td>\n",
       "      <td>2017-08-11 03:54:00</td>\n",
       "      <td>2017-09-11 21:53:00</td>\n",
       "      <td>113477.0</td>\n",
       "      <td>147.0</td>\n",
       "      <td>promo_09</td>\n",
       "      <td>premium_no_trial</td>\n",
       "      <td>test</td>\n",
       "    </tr>\n",
       "    <tr>\n",
       "      <th>64</th>\n",
       "      <td>892275462.0</td>\n",
       "      <td>France</td>\n",
       "      <td>2017-10-17 05:56:00</td>\n",
       "      <td>2017-02-11 18:24:00</td>\n",
       "      <td>44083.0</td>\n",
       "      <td>19.0</td>\n",
       "      <td>coins_popup</td>\n",
       "      <td>other_type</td>\n",
       "      <td>test</td>\n",
       "    </tr>\n",
       "    <tr>\n",
       "      <th>196</th>\n",
       "      <td>892038759.0</td>\n",
       "      <td>United Arab Emirates</td>\n",
       "      <td>2017-10-22 11:12:00</td>\n",
       "      <td>2017-10-22 16:23:00</td>\n",
       "      <td>113477.0</td>\n",
       "      <td>147.0</td>\n",
       "      <td>autoreply_message</td>\n",
       "      <td>premium_no_trial</td>\n",
       "      <td>test</td>\n",
       "    </tr>\n",
       "    <tr>\n",
       "      <th>30</th>\n",
       "      <td>892421277.0</td>\n",
       "      <td>United States of America</td>\n",
       "      <td>2017-10-14 13:05:00</td>\n",
       "      <td>2017-10-15 13:11:00</td>\n",
       "      <td>47723.0</td>\n",
       "      <td>147.0</td>\n",
       "      <td>promo_09</td>\n",
       "      <td>premium_no_trial</td>\n",
       "      <td>control_1</td>\n",
       "    </tr>\n",
       "    <tr>\n",
       "      <th>143</th>\n",
       "      <td>892333905.0</td>\n",
       "      <td>Italy</td>\n",
       "      <td>2017-10-16 01:38:00</td>\n",
       "      <td>2017-10-16 13:10:00</td>\n",
       "      <td>63037.0</td>\n",
       "      <td>147.0</td>\n",
       "      <td>no_sympathy</td>\n",
       "      <td>premium_no_trial</td>\n",
       "      <td>control_1</td>\n",
       "    </tr>\n",
       "    <tr>\n",
       "      <th>277</th>\n",
       "      <td>892216461.0</td>\n",
       "      <td>United States of America</td>\n",
       "      <td>2017-10-18 14:41:00</td>\n",
       "      <td>2017-10-18 15:02:00</td>\n",
       "      <td>63037.0</td>\n",
       "      <td>147.0</td>\n",
       "      <td>autoreply_message</td>\n",
       "      <td>premium_no_trial</td>\n",
       "      <td>control_1</td>\n",
       "    </tr>\n",
       "    <tr>\n",
       "      <th>317</th>\n",
       "      <td>891383310.0</td>\n",
       "      <td>Turkey</td>\n",
       "      <td>2017-04-11 20:47:00</td>\n",
       "      <td>2017-04-11 22:17:00</td>\n",
       "      <td>63037.0</td>\n",
       "      <td>147.0</td>\n",
       "      <td>autoreply_message</td>\n",
       "      <td>premium_no_trial</td>\n",
       "      <td>control_1</td>\n",
       "    </tr>\n",
       "    <tr>\n",
       "      <th>22</th>\n",
       "      <td>892307238.0</td>\n",
       "      <td>Spain</td>\n",
       "      <td>2017-10-16 16:01:00</td>\n",
       "      <td>2017-10-16 20:41:00</td>\n",
       "      <td>63037.0</td>\n",
       "      <td>147.0</td>\n",
       "      <td>left_sidebar_menu</td>\n",
       "      <td>premium_no_trial</td>\n",
       "      <td>control_2</td>\n",
       "    </tr>\n",
       "    <tr>\n",
       "      <th>47</th>\n",
       "      <td>891778551.0</td>\n",
       "      <td>United Arab Emirates</td>\n",
       "      <td>2017-10-27 21:26:00</td>\n",
       "      <td>2017-10-27 22:30:00</td>\n",
       "      <td>81796.0</td>\n",
       "      <td>147.0</td>\n",
       "      <td>left_sidebar_menu</td>\n",
       "      <td>premium_no_trial</td>\n",
       "      <td>control_2</td>\n",
       "    </tr>\n",
       "  </tbody>\n",
       "</table>\n",
       "</div>"
      ],
      "text/plain": [
       "             uid                   country            joined_at  \\\n",
       "12   891178380.0                     Spain  2017-08-11 03:54:00   \n",
       "64   892275462.0                    France  2017-10-17 05:56:00   \n",
       "196  892038759.0      United Arab Emirates  2017-10-22 11:12:00   \n",
       "30   892421277.0  United States of America  2017-10-14 13:05:00   \n",
       "143  892333905.0                     Italy  2017-10-16 01:38:00   \n",
       "277  892216461.0  United States of America  2017-10-18 14:41:00   \n",
       "317  891383310.0                    Turkey  2017-04-11 20:47:00   \n",
       "22   892307238.0                     Spain  2017-10-16 16:01:00   \n",
       "47   891778551.0      United Arab Emirates  2017-10-27 21:26:00   \n",
       "\n",
       "                 paid_at   revenue  payment_id          from_page  \\\n",
       "12   2017-09-11 21:53:00  113477.0       147.0           promo_09   \n",
       "64   2017-02-11 18:24:00   44083.0        19.0        coins_popup   \n",
       "196  2017-10-22 16:23:00  113477.0       147.0  autoreply_message   \n",
       "30   2017-10-15 13:11:00   47723.0       147.0           promo_09   \n",
       "143  2017-10-16 13:10:00   63037.0       147.0        no_sympathy   \n",
       "277  2017-10-18 15:02:00   63037.0       147.0  autoreply_message   \n",
       "317  2017-04-11 22:17:00   63037.0       147.0  autoreply_message   \n",
       "22   2017-10-16 20:41:00   63037.0       147.0  left_sidebar_menu   \n",
       "47   2017-10-27 22:30:00   81796.0       147.0  left_sidebar_menu   \n",
       "\n",
       "         product_type      group  \n",
       "12   premium_no_trial       test  \n",
       "64         other_type       test  \n",
       "196  premium_no_trial       test  \n",
       "30   premium_no_trial  control_1  \n",
       "143  premium_no_trial  control_1  \n",
       "277  premium_no_trial  control_1  \n",
       "317  premium_no_trial  control_1  \n",
       "22   premium_no_trial  control_2  \n",
       "47   premium_no_trial  control_2  "
      ]
     },
     "execution_count": 39,
     "metadata": {},
     "output_type": "execute_result"
    }
   ],
   "source": [
    "transactions.query(\"revenue > 40000\")"
   ]
  },
  {
   "cell_type": "code",
   "execution_count": 40,
   "metadata": {},
   "outputs": [
    {
     "data": {
      "text/html": [
       "<div>\n",
       "<style scoped>\n",
       "    .dataframe tbody tr th:only-of-type {\n",
       "        vertical-align: middle;\n",
       "    }\n",
       "\n",
       "    .dataframe tbody tr th {\n",
       "        vertical-align: top;\n",
       "    }\n",
       "\n",
       "    .dataframe thead th {\n",
       "        text-align: right;\n",
       "    }\n",
       "</style>\n",
       "<table border=\"1\" class=\"dataframe\">\n",
       "  <thead>\n",
       "    <tr style=\"text-align: right;\">\n",
       "      <th></th>\n",
       "      <th>uid</th>\n",
       "      <th>age</th>\n",
       "      <th>attraction_coeff</th>\n",
       "      <th>coins</th>\n",
       "      <th>country</th>\n",
       "      <th>visit_days</th>\n",
       "      <th>gender</th>\n",
       "      <th>age_filter_start</th>\n",
       "      <th>age_filter_end</th>\n",
       "      <th>views_count</th>\n",
       "      <th>was_premium</th>\n",
       "      <th>is_premium</th>\n",
       "      <th>total_revenue</th>\n",
       "      <th>Group</th>\n",
       "    </tr>\n",
       "  </thead>\n",
       "  <tbody>\n",
       "    <tr>\n",
       "      <th>284</th>\n",
       "      <td>892421277</td>\n",
       "      <td>22</td>\n",
       "      <td>446</td>\n",
       "      <td>62.0</td>\n",
       "      <td>United States of America</td>\n",
       "      <td>1,2,3,4,5,6,7,8,9,10,11,12,13,14,15,16,17,18,1...</td>\n",
       "      <td>1</td>\n",
       "      <td>16</td>\n",
       "      <td>35</td>\n",
       "      <td>130</td>\n",
       "      <td>1.0</td>\n",
       "      <td>1.0</td>\n",
       "      <td>60333</td>\n",
       "      <td>control_1</td>\n",
       "    </tr>\n",
       "    <tr>\n",
       "      <th>874</th>\n",
       "      <td>891383310</td>\n",
       "      <td>22</td>\n",
       "      <td>1000</td>\n",
       "      <td>NaN</td>\n",
       "      <td>Turkey</td>\n",
       "      <td>1</td>\n",
       "      <td>1</td>\n",
       "      <td>19</td>\n",
       "      <td>83</td>\n",
       "      <td>4</td>\n",
       "      <td>1.0</td>\n",
       "      <td>1.0</td>\n",
       "      <td>63037</td>\n",
       "      <td>control_1</td>\n",
       "    </tr>\n",
       "    <tr>\n",
       "      <th>1427</th>\n",
       "      <td>892333905</td>\n",
       "      <td>22</td>\n",
       "      <td>175</td>\n",
       "      <td>3608.0</td>\n",
       "      <td>Italy</td>\n",
       "      <td>1,2,3,4,5,6,7,15</td>\n",
       "      <td>1</td>\n",
       "      <td>19</td>\n",
       "      <td>25</td>\n",
       "      <td>575</td>\n",
       "      <td>1.0</td>\n",
       "      <td>1.0</td>\n",
       "      <td>486330</td>\n",
       "      <td>control_1</td>\n",
       "    </tr>\n",
       "    <tr>\n",
       "      <th>2296</th>\n",
       "      <td>892216461</td>\n",
       "      <td>19</td>\n",
       "      <td>293</td>\n",
       "      <td>6.0</td>\n",
       "      <td>United States of America</td>\n",
       "      <td>1,2,3,5,8,9,11,13,15,16,17,18,19,20,22,23,24,2...</td>\n",
       "      <td>1</td>\n",
       "      <td>16</td>\n",
       "      <td>25</td>\n",
       "      <td>58</td>\n",
       "      <td>1.0</td>\n",
       "      <td>1.0</td>\n",
       "      <td>64298</td>\n",
       "      <td>control_1</td>\n",
       "    </tr>\n",
       "    <tr>\n",
       "      <th>1216</th>\n",
       "      <td>892307238</td>\n",
       "      <td>29</td>\n",
       "      <td>543</td>\n",
       "      <td>43.0</td>\n",
       "      <td>Spain</td>\n",
       "      <td>1,2,3,4,5,6,7,8,9,10,11,12,13,14,15,16,17,18,1...</td>\n",
       "      <td>1</td>\n",
       "      <td>16</td>\n",
       "      <td>36</td>\n",
       "      <td>46</td>\n",
       "      <td>1.0</td>\n",
       "      <td>1.0</td>\n",
       "      <td>75647</td>\n",
       "      <td>control_2</td>\n",
       "    </tr>\n",
       "    <tr>\n",
       "      <th>1360</th>\n",
       "      <td>891778551</td>\n",
       "      <td>30</td>\n",
       "      <td>290</td>\n",
       "      <td>NaN</td>\n",
       "      <td>United Arab Emirates</td>\n",
       "      <td>1,6,7,8,9,10</td>\n",
       "      <td>1</td>\n",
       "      <td>27</td>\n",
       "      <td>33</td>\n",
       "      <td>31</td>\n",
       "      <td>1.0</td>\n",
       "      <td>1.0</td>\n",
       "      <td>81796</td>\n",
       "      <td>control_2</td>\n",
       "    </tr>\n",
       "    <tr>\n",
       "      <th>992</th>\n",
       "      <td>892038759</td>\n",
       "      <td>26</td>\n",
       "      <td>323</td>\n",
       "      <td>3.0</td>\n",
       "      <td>United Arab Emirates</td>\n",
       "      <td>1,2,3,4,5,6,7,8,9,10,11,12,13,14,15,16,17,18,1...</td>\n",
       "      <td>1</td>\n",
       "      <td>23</td>\n",
       "      <td>48</td>\n",
       "      <td>232</td>\n",
       "      <td>1.0</td>\n",
       "      <td>1.0</td>\n",
       "      <td>123565</td>\n",
       "      <td>test</td>\n",
       "    </tr>\n",
       "    <tr>\n",
       "      <th>2070</th>\n",
       "      <td>892275462</td>\n",
       "      <td>31</td>\n",
       "      <td>310</td>\n",
       "      <td>NaN</td>\n",
       "      <td>France</td>\n",
       "      <td>1,2,3,4,5,9,13,15,16</td>\n",
       "      <td>1</td>\n",
       "      <td>36</td>\n",
       "      <td>68</td>\n",
       "      <td>58</td>\n",
       "      <td>1.0</td>\n",
       "      <td>1.0</td>\n",
       "      <td>14885</td>\n",
       "      <td>test</td>\n",
       "    </tr>\n",
       "    <tr>\n",
       "      <th>3629</th>\n",
       "      <td>891178380</td>\n",
       "      <td>42</td>\n",
       "      <td>275</td>\n",
       "      <td>85.0</td>\n",
       "      <td>Spain</td>\n",
       "      <td>1,2,4,5,6,7</td>\n",
       "      <td>1</td>\n",
       "      <td>26</td>\n",
       "      <td>36</td>\n",
       "      <td>287</td>\n",
       "      <td>1.0</td>\n",
       "      <td>1.0</td>\n",
       "      <td>129870</td>\n",
       "      <td>test</td>\n",
       "    </tr>\n",
       "  </tbody>\n",
       "</table>\n",
       "</div>"
      ],
      "text/plain": [
       "            uid  age  attraction_coeff   coins                   country  \\\n",
       "284   892421277   22               446    62.0  United States of America   \n",
       "874   891383310   22              1000     NaN                    Turkey   \n",
       "1427  892333905   22               175  3608.0                     Italy   \n",
       "2296  892216461   19               293     6.0  United States of America   \n",
       "1216  892307238   29               543    43.0                     Spain   \n",
       "1360  891778551   30               290     NaN      United Arab Emirates   \n",
       "992   892038759   26               323     3.0      United Arab Emirates   \n",
       "2070  892275462   31               310     NaN                    France   \n",
       "3629  891178380   42               275    85.0                     Spain   \n",
       "\n",
       "                                             visit_days  gender  \\\n",
       "284   1,2,3,4,5,6,7,8,9,10,11,12,13,14,15,16,17,18,1...       1   \n",
       "874                                                   1       1   \n",
       "1427                                   1,2,3,4,5,6,7,15       1   \n",
       "2296  1,2,3,5,8,9,11,13,15,16,17,18,19,20,22,23,24,2...       1   \n",
       "1216  1,2,3,4,5,6,7,8,9,10,11,12,13,14,15,16,17,18,1...       1   \n",
       "1360                                       1,6,7,8,9,10       1   \n",
       "992   1,2,3,4,5,6,7,8,9,10,11,12,13,14,15,16,17,18,1...       1   \n",
       "2070                               1,2,3,4,5,9,13,15,16       1   \n",
       "3629                                        1,2,4,5,6,7       1   \n",
       "\n",
       "      age_filter_start  age_filter_end  views_count  was_premium  is_premium  \\\n",
       "284                 16              35          130          1.0         1.0   \n",
       "874                 19              83            4          1.0         1.0   \n",
       "1427                19              25          575          1.0         1.0   \n",
       "2296                16              25           58          1.0         1.0   \n",
       "1216                16              36           46          1.0         1.0   \n",
       "1360                27              33           31          1.0         1.0   \n",
       "992                 23              48          232          1.0         1.0   \n",
       "2070                36              68           58          1.0         1.0   \n",
       "3629                26              36          287          1.0         1.0   \n",
       "\n",
       "      total_revenue      Group  \n",
       "284           60333  control_1  \n",
       "874           63037  control_1  \n",
       "1427         486330  control_1  \n",
       "2296          64298  control_1  \n",
       "1216          75647  control_2  \n",
       "1360          81796  control_2  \n",
       "992          123565       test  \n",
       "2070          14885       test  \n",
       "3629         129870       test  "
      ]
     },
     "execution_count": 40,
     "metadata": {},
     "output_type": "execute_result"
    }
   ],
   "source": [
    "top_revenue_ids = list(transactions.query(\"revenue > 40000\").uid) \n",
    "users.query(\"uid in @top_revenue_ids\") # Посмотрю юзеров с большой выручкой"
   ]
  },
  {
   "cell_type": "markdown",
   "metadata": {},
   "source": [
    "Почти все операции с большой выручкой относятся к premium_no_trial. Если рассмотреть этих пользователей более подробно, то можно обратить внимание на то, что многие из них довольно активны. В целом, я могу предположить, что эти операции относятся к покупке премиума на длительный срок, поэтому не буду считать их выбросами и удалять. "
   ]
  },
  {
   "cell_type": "code",
   "execution_count": 41,
   "metadata": {
    "scrolled": false
   },
   "outputs": [
    {
     "data": {
      "text/plain": [
       "<matplotlib.axes._subplots.AxesSubplot at 0x7f877c4b2da0>"
      ]
     },
     "execution_count": 41,
     "metadata": {},
     "output_type": "execute_result"
    },
    {
     "data": {
      "image/png": "[encoded data removed]",
      "text/plain": [
       "<Figure size 1440x504 with 1 Axes>"
      ]
     },
     "metadata": {},
     "output_type": "display_data"
    }
   ],
   "source": [
    "sns.boxplot(data=users_control, x='Group', y='age')"
   ]
  },
  {
   "cell_type": "markdown",
   "metadata": {},
   "source": [
    "Кажется, что сплитование по возрасту отработало корректно. Средний возраст наших пользователей около 30 лет, но есть и явные выбросы, возраст некоторых приближается к сотне, нужно взглянуть на них подробнее.\n"
   ]
  },
  {
   "cell_type": "code",
   "execution_count": 42,
   "metadata": {
    "scrolled": false
   },
   "outputs": [
    {
     "data": {
      "text/html": [
       "<div>\n",
       "<style scoped>\n",
       "    .dataframe tbody tr th:only-of-type {\n",
       "        vertical-align: middle;\n",
       "    }\n",
       "\n",
       "    .dataframe tbody tr th {\n",
       "        vertical-align: top;\n",
       "    }\n",
       "\n",
       "    .dataframe thead th {\n",
       "        text-align: right;\n",
       "    }\n",
       "</style>\n",
       "<table border=\"1\" class=\"dataframe\">\n",
       "  <thead>\n",
       "    <tr style=\"text-align: right;\">\n",
       "      <th></th>\n",
       "      <th>uid</th>\n",
       "      <th>age</th>\n",
       "      <th>attraction_coeff</th>\n",
       "      <th>coins</th>\n",
       "      <th>country</th>\n",
       "      <th>visit_days</th>\n",
       "      <th>gender</th>\n",
       "      <th>age_filter_start</th>\n",
       "      <th>age_filter_end</th>\n",
       "      <th>views_count</th>\n",
       "      <th>was_premium</th>\n",
       "      <th>is_premium</th>\n",
       "      <th>total_revenue</th>\n",
       "      <th>Group</th>\n",
       "    </tr>\n",
       "  </thead>\n",
       "  <tbody>\n",
       "    <tr>\n",
       "      <th>773</th>\n",
       "      <td>891746646</td>\n",
       "      <td>99</td>\n",
       "      <td>300</td>\n",
       "      <td>NaN</td>\n",
       "      <td>Italy</td>\n",
       "      <td>NaN</td>\n",
       "      <td>1</td>\n",
       "      <td>50</td>\n",
       "      <td>70</td>\n",
       "      <td>10</td>\n",
       "      <td>NaN</td>\n",
       "      <td>NaN</td>\n",
       "      <td>0</td>\n",
       "      <td>control_1</td>\n",
       "    </tr>\n",
       "    <tr>\n",
       "      <th>1466</th>\n",
       "      <td>891918399</td>\n",
       "      <td>99</td>\n",
       "      <td>62</td>\n",
       "      <td>NaN</td>\n",
       "      <td>Italy</td>\n",
       "      <td>1,2,3</td>\n",
       "      <td>1</td>\n",
       "      <td>50</td>\n",
       "      <td>99</td>\n",
       "      <td>16</td>\n",
       "      <td>NaN</td>\n",
       "      <td>NaN</td>\n",
       "      <td>0</td>\n",
       "      <td>control_1</td>\n",
       "    </tr>\n",
       "    <tr>\n",
       "      <th>1856</th>\n",
       "      <td>891374112</td>\n",
       "      <td>99</td>\n",
       "      <td>900</td>\n",
       "      <td>NaN</td>\n",
       "      <td>United Arab Emirates</td>\n",
       "      <td>1,2,3,4,5,6,7,8,9,10,11</td>\n",
       "      <td>1</td>\n",
       "      <td>16</td>\n",
       "      <td>99</td>\n",
       "      <td>462</td>\n",
       "      <td>NaN</td>\n",
       "      <td>NaN</td>\n",
       "      <td>0</td>\n",
       "      <td>control_1</td>\n",
       "    </tr>\n",
       "    <tr>\n",
       "      <th>2103</th>\n",
       "      <td>892185039</td>\n",
       "      <td>99</td>\n",
       "      <td>759</td>\n",
       "      <td>NaN</td>\n",
       "      <td>United Kingdom (Great Britain)</td>\n",
       "      <td>1,2,3,4,5,6,7,8,9</td>\n",
       "      <td>1</td>\n",
       "      <td>43</td>\n",
       "      <td>49</td>\n",
       "      <td>79</td>\n",
       "      <td>1.0</td>\n",
       "      <td>1.0</td>\n",
       "      <td>7332</td>\n",
       "      <td>control_1</td>\n",
       "    </tr>\n",
       "    <tr>\n",
       "      <th>2238</th>\n",
       "      <td>892321845</td>\n",
       "      <td>99</td>\n",
       "      <td>500</td>\n",
       "      <td>NaN</td>\n",
       "      <td>United States of America</td>\n",
       "      <td>NaN</td>\n",
       "      <td>1</td>\n",
       "      <td>22</td>\n",
       "      <td>99</td>\n",
       "      <td>4</td>\n",
       "      <td>NaN</td>\n",
       "      <td>NaN</td>\n",
       "      <td>0</td>\n",
       "      <td>control_1</td>\n",
       "    </tr>\n",
       "    <tr>\n",
       "      <th>2312</th>\n",
       "      <td>891682545</td>\n",
       "      <td>99</td>\n",
       "      <td>0</td>\n",
       "      <td>NaN</td>\n",
       "      <td>United States of America</td>\n",
       "      <td>NaN</td>\n",
       "      <td>1</td>\n",
       "      <td>96</td>\n",
       "      <td>102</td>\n",
       "      <td>0</td>\n",
       "      <td>NaN</td>\n",
       "      <td>NaN</td>\n",
       "      <td>0</td>\n",
       "      <td>control_1</td>\n",
       "    </tr>\n",
       "    <tr>\n",
       "      <th>2836</th>\n",
       "      <td>891900387</td>\n",
       "      <td>99</td>\n",
       "      <td>333</td>\n",
       "      <td>NaN</td>\n",
       "      <td>Italy</td>\n",
       "      <td>1,3,4</td>\n",
       "      <td>1</td>\n",
       "      <td>16</td>\n",
       "      <td>99</td>\n",
       "      <td>3</td>\n",
       "      <td>NaN</td>\n",
       "      <td>NaN</td>\n",
       "      <td>0</td>\n",
       "      <td>control_1</td>\n",
       "    </tr>\n",
       "    <tr>\n",
       "      <th>2908</th>\n",
       "      <td>892335240</td>\n",
       "      <td>98</td>\n",
       "      <td>593</td>\n",
       "      <td>NaN</td>\n",
       "      <td>United States of America</td>\n",
       "      <td>1</td>\n",
       "      <td>1</td>\n",
       "      <td>22</td>\n",
       "      <td>28</td>\n",
       "      <td>32</td>\n",
       "      <td>NaN</td>\n",
       "      <td>NaN</td>\n",
       "      <td>0</td>\n",
       "      <td>control_1</td>\n",
       "    </tr>\n",
       "    <tr>\n",
       "      <th>3399</th>\n",
       "      <td>892278777</td>\n",
       "      <td>91</td>\n",
       "      <td>384</td>\n",
       "      <td>NaN</td>\n",
       "      <td>United Arab Emirates</td>\n",
       "      <td>1</td>\n",
       "      <td>1</td>\n",
       "      <td>16</td>\n",
       "      <td>23</td>\n",
       "      <td>13</td>\n",
       "      <td>NaN</td>\n",
       "      <td>NaN</td>\n",
       "      <td>0</td>\n",
       "      <td>control_1</td>\n",
       "    </tr>\n",
       "    <tr>\n",
       "      <th>137</th>\n",
       "      <td>892224798</td>\n",
       "      <td>92</td>\n",
       "      <td>320</td>\n",
       "      <td>NaN</td>\n",
       "      <td>United States of America</td>\n",
       "      <td>1,2,4,5,6,7,10,12,15</td>\n",
       "      <td>1</td>\n",
       "      <td>21</td>\n",
       "      <td>28</td>\n",
       "      <td>50</td>\n",
       "      <td>NaN</td>\n",
       "      <td>NaN</td>\n",
       "      <td>0</td>\n",
       "      <td>control_2</td>\n",
       "    </tr>\n",
       "    <tr>\n",
       "      <th>2571</th>\n",
       "      <td>891559305</td>\n",
       "      <td>99</td>\n",
       "      <td>440</td>\n",
       "      <td>NaN</td>\n",
       "      <td>Germany</td>\n",
       "      <td>1,2</td>\n",
       "      <td>0</td>\n",
       "      <td>24</td>\n",
       "      <td>37</td>\n",
       "      <td>25</td>\n",
       "      <td>NaN</td>\n",
       "      <td>NaN</td>\n",
       "      <td>0</td>\n",
       "      <td>control_2</td>\n",
       "    </tr>\n",
       "    <tr>\n",
       "      <th>4189</th>\n",
       "      <td>891934920</td>\n",
       "      <td>87</td>\n",
       "      <td>666</td>\n",
       "      <td>NaN</td>\n",
       "      <td>Italy</td>\n",
       "      <td>1,2</td>\n",
       "      <td>1</td>\n",
       "      <td>16</td>\n",
       "      <td>40</td>\n",
       "      <td>3</td>\n",
       "      <td>NaN</td>\n",
       "      <td>NaN</td>\n",
       "      <td>0</td>\n",
       "      <td>control_2</td>\n",
       "    </tr>\n",
       "  </tbody>\n",
       "</table>\n",
       "</div>"
      ],
      "text/plain": [
       "            uid  age  attraction_coeff  coins                         country  \\\n",
       "773   891746646   99               300    NaN                           Italy   \n",
       "1466  891918399   99                62    NaN                           Italy   \n",
       "1856  891374112   99               900    NaN            United Arab Emirates   \n",
       "2103  892185039   99               759    NaN  United Kingdom (Great Britain)   \n",
       "2238  892321845   99               500    NaN        United States of America   \n",
       "2312  891682545   99                 0    NaN        United States of America   \n",
       "2836  891900387   99               333    NaN                           Italy   \n",
       "2908  892335240   98               593    NaN        United States of America   \n",
       "3399  892278777   91               384    NaN            United Arab Emirates   \n",
       "137   892224798   92               320    NaN        United States of America   \n",
       "2571  891559305   99               440    NaN                         Germany   \n",
       "4189  891934920   87               666    NaN                           Italy   \n",
       "\n",
       "                   visit_days  gender  age_filter_start  age_filter_end  \\\n",
       "773                       NaN       1                50              70   \n",
       "1466                    1,2,3       1                50              99   \n",
       "1856  1,2,3,4,5,6,7,8,9,10,11       1                16              99   \n",
       "2103        1,2,3,4,5,6,7,8,9       1                43              49   \n",
       "2238                      NaN       1                22              99   \n",
       "2312                      NaN       1                96             102   \n",
       "2836                    1,3,4       1                16              99   \n",
       "2908                        1       1                22              28   \n",
       "3399                        1       1                16              23   \n",
       "137      1,2,4,5,6,7,10,12,15       1                21              28   \n",
       "2571                      1,2       0                24              37   \n",
       "4189                      1,2       1                16              40   \n",
       "\n",
       "      views_count  was_premium  is_premium  total_revenue      Group  \n",
       "773            10          NaN         NaN              0  control_1  \n",
       "1466           16          NaN         NaN              0  control_1  \n",
       "1856          462          NaN         NaN              0  control_1  \n",
       "2103           79          1.0         1.0           7332  control_1  \n",
       "2238            4          NaN         NaN              0  control_1  \n",
       "2312            0          NaN         NaN              0  control_1  \n",
       "2836            3          NaN         NaN              0  control_1  \n",
       "2908           32          NaN         NaN              0  control_1  \n",
       "3399           13          NaN         NaN              0  control_1  \n",
       "137            50          NaN         NaN              0  control_2  \n",
       "2571           25          NaN         NaN              0  control_2  \n",
       "4189            3          NaN         NaN              0  control_2  "
      ]
     },
     "execution_count": 42,
     "metadata": {},
     "output_type": "execute_result"
    }
   ],
   "source": [
    "users_control.query(\"age > 80\")"
   ]
  },
  {
   "cell_type": "markdown",
   "metadata": {},
   "source": [
    "Не нашел выявил ничего, что могло бы указать на возможную ошибку в данных. Однако у некоторых пожилых пользователей довольно забавные возрастные ограничения поиска.\n"
   ]
  },
  {
   "cell_type": "code",
   "execution_count": 43,
   "metadata": {},
   "outputs": [],
   "source": [
    "gender_split = users_control.groupby(['gender', 'Group'], as_index=False) \\\n",
    "                            .agg(count=('uid', 'count'))"
   ]
  },
  {
   "cell_type": "code",
   "execution_count": 44,
   "metadata": {},
   "outputs": [
    {
     "data": {
      "text/plain": [
       "<matplotlib.legend.Legend at 0x7f877c4adcf8>"
      ]
     },
     "execution_count": 44,
     "metadata": {},
     "output_type": "execute_result"
    },
    {
     "data": {
      "image/png": "[encoded data removed]",
      "text/plain": [
       "<Figure size 1440x504 with 1 Axes>"
      ]
     },
     "metadata": {},
     "output_type": "display_data"
    }
   ],
   "source": [
    "sns.pointplot(data=gender_split, x='Group', y='count', hue='gender')\n",
    "plt.title('Гендер по группам')\n",
    "plt.ylabel('Пользователи')\n",
    "plt.xlabel('Группа')\n",
    "plt.legend(title='Гендер')"
   ]
  },
  {
   "cell_type": "markdown",
   "metadata": {},
   "source": [
    "Система сплитования по полу тоже разделила примерно одинаково в двух контрольных группах. Гендера 1 кратно больше, можно предположить, что 0 - женщины, а 1 - мужчины. Ради интереса посчитаю соотношение по полу и группе.\n"
   ]
  },
  {
   "cell_type": "code",
   "execution_count": 45,
   "metadata": {
    "scrolled": true
   },
   "outputs": [
    {
     "data": {
      "text/html": [
       "<style  type=\"text/css\" >\n",
       "</style><table id=\"T_9f0451f0_3aa4_11ee_bdbb_96000040dfb6\" ><caption>Соотношение мужчин и женщин</caption><thead>    <tr>        <th class=\"index_name level0\" >gender</th>        <th class=\"col_heading level0 col0\" >Group</th>        <th class=\"col_heading level0 col1\" >female</th>        <th class=\"col_heading level0 col2\" >male</th>        <th class=\"col_heading level0 col3\" >ratio</th>    </tr></thead><tbody>\n",
       "                <tr>\n",
       "                        <th id=\"T_9f0451f0_3aa4_11ee_bdbb_96000040dfb6level0_row0\" class=\"row_heading level0 row0\" >0</th>\n",
       "                        <td id=\"T_9f0451f0_3aa4_11ee_bdbb_96000040dfb6row0_col0\" class=\"data row0 col0\" >control_1</td>\n",
       "                        <td id=\"T_9f0451f0_3aa4_11ee_bdbb_96000040dfb6row0_col1\" class=\"data row0 col1\" >180</td>\n",
       "                        <td id=\"T_9f0451f0_3aa4_11ee_bdbb_96000040dfb6row0_col2\" class=\"data row0 col2\" >4009</td>\n",
       "                        <td id=\"T_9f0451f0_3aa4_11ee_bdbb_96000040dfb6row0_col3\" class=\"data row0 col3\" >22.000000</td>\n",
       "            </tr>\n",
       "            <tr>\n",
       "                        <th id=\"T_9f0451f0_3aa4_11ee_bdbb_96000040dfb6level0_row1\" class=\"row_heading level0 row1\" >1</th>\n",
       "                        <td id=\"T_9f0451f0_3aa4_11ee_bdbb_96000040dfb6row1_col0\" class=\"data row1 col0\" >control_2</td>\n",
       "                        <td id=\"T_9f0451f0_3aa4_11ee_bdbb_96000040dfb6row1_col1\" class=\"data row1 col1\" >188</td>\n",
       "                        <td id=\"T_9f0451f0_3aa4_11ee_bdbb_96000040dfb6row1_col2\" class=\"data row1 col2\" >3912</td>\n",
       "                        <td id=\"T_9f0451f0_3aa4_11ee_bdbb_96000040dfb6row1_col3\" class=\"data row1 col3\" >21.000000</td>\n",
       "            </tr>\n",
       "    </tbody></table>"
      ],
      "text/plain": [
       "<pandas.io.formats.style.Styler at 0x7f877c3fe668>"
      ]
     },
     "execution_count": 45,
     "metadata": {},
     "output_type": "execute_result"
    }
   ],
   "source": [
    "gender_ratio = pd.pivot(gender_split, index = 'Group', columns = 'gender', values = 'count') \\\n",
    "    .reset_index() \\\n",
    "    .rename(columns = {0 : 'female', 1: 'male'})\n",
    "gender_ratio['ratio'] = round(gender_ratio.male / gender_ratio.female)\n",
    "gender_ratio = gender_ratio.style.set_caption(\"Соотношение мужчин и женщин\")\n",
    "gender_ratio"
   ]
  },
  {
   "cell_type": "markdown",
   "metadata": {},
   "source": [
    "Получается довольно интересная ситуация, в которой на каждую женщину приходится 21 - 22 мужчины. \n",
    "\n",
    "Теперь перейду к изучению коэффициента привлекательности, сравню их в контрольных группах для определени равенства выборок. \n",
    "\n",
    "H0 – в генеральной совокупности никакого различия между средними значениями в привлекательности пользователей нет.\n",
    "H1 – средние коэффициента привлекательности в генеральной совокупности не равны."
   ]
  },
  {
   "cell_type": "code",
   "execution_count": 46,
   "metadata": {},
   "outputs": [
    {
     "data": {
      "text/html": [
       "<style  type=\"text/css\" >\n",
       "</style><table id=\"T_9f0451f1_3aa4_11ee_bdbb_96000040dfb6\" ><caption>Коэффициент привлекательности в контрольных группах</caption><thead>    <tr>        <th class=\"blank level0\" ></th>        <th class=\"col_heading level0 col0\" >Group</th>        <th class=\"col_heading level0 col1\" >attraction_coeff</th>    </tr></thead><tbody>\n",
       "                <tr>\n",
       "                        <th id=\"T_9f0451f1_3aa4_11ee_bdbb_96000040dfb6level0_row0\" class=\"row_heading level0 row0\" >0</th>\n",
       "                        <td id=\"T_9f0451f1_3aa4_11ee_bdbb_96000040dfb6row0_col0\" class=\"data row0 col0\" >control_1</td>\n",
       "                        <td id=\"T_9f0451f1_3aa4_11ee_bdbb_96000040dfb6row0_col1\" class=\"data row0 col1\" >313.275961</td>\n",
       "            </tr>\n",
       "            <tr>\n",
       "                        <th id=\"T_9f0451f1_3aa4_11ee_bdbb_96000040dfb6level0_row1\" class=\"row_heading level0 row1\" >1</th>\n",
       "                        <td id=\"T_9f0451f1_3aa4_11ee_bdbb_96000040dfb6row1_col0\" class=\"data row1 col0\" >control_2</td>\n",
       "                        <td id=\"T_9f0451f1_3aa4_11ee_bdbb_96000040dfb6row1_col1\" class=\"data row1 col1\" >318.115610</td>\n",
       "            </tr>\n",
       "    </tbody></table>"
      ],
      "text/plain": [
       "<pandas.io.formats.style.Styler at 0x7f877c3e5828>"
      ]
     },
     "execution_count": 46,
     "metadata": {},
     "output_type": "execute_result"
    }
   ],
   "source": [
    "attraction_split = users_control.groupby('Group', as_index=False) \\\n",
    "                                .agg({'attraction_coeff': 'mean'})\n",
    "attraction_split = attraction_split.style.set_caption(\"Коэффициент привлекательности в контрольных группах\")\n",
    "attraction_split"
   ]
  },
  {
   "cell_type": "markdown",
   "metadata": {},
   "source": [
    "Привлекательность пользователей в двух контрольных группах примерна одинакова и коэффициент составляет в среднем 314,5. Поскольку привлекательность все же отличается, то нужно проверить есть ли стат. значимое различие между группами. \n",
    "\n",
    "Для применения т-критерия Стьюдента дисперсии внутри групп должны быть примерно одинаковы, проверю это при помощи критерия Левена и перейду к сравнению.\n",
    "\n",
    "Поскольку у нас есть информация только о дате регистрации платящих пользователей, то будем считать новыми только их, остальных исключаю из выборки."
   ]
  },
  {
   "cell_type": "code",
   "execution_count": 47,
   "metadata": {},
   "outputs": [
    {
     "data": {
      "text/plain": [
       "LeveneResult(statistic=3.4383789184183726, pvalue=0.06450680268431268)"
      ]
     },
     "execution_count": 47,
     "metadata": {},
     "output_type": "execute_result"
    }
   ],
   "source": [
    "ids = list(transactions_control.uid.unique())\n",
    "\n",
    "stats.levene(users_control.query(\"Group == 'control_1' and uid in @ids\").attraction_coeff, users.query(\n",
    "    \"Group == 'control_2' and uid in @ids\").attraction_coeff)"
   ]
  },
  {
   "cell_type": "markdown",
   "metadata": {},
   "source": [
    "H0 – в генеральной совокупности никакого различия между дисперсиями контрольных групп нет.\n",
    "H1 – дисперсии контрольных групп не равны в генеральной совокупности.\n",
    "\n",
    "p-value > 0.05 => у нас нет оснований отклонить нулевую гипотезу о том, что в генеральной совокупности никакого различия между дисперсиями контрольных групп нет. Можно переходить к применению т-критери Стьюдента."
   ]
  },
  {
   "cell_type": "code",
   "execution_count": 48,
   "metadata": {},
   "outputs": [
    {
     "data": {
      "text/plain": [
       "Ttest_indResult(statistic=-1.7508880307360233, pvalue=0.08080756384012322)"
      ]
     },
     "execution_count": 48,
     "metadata": {},
     "output_type": "execute_result"
    }
   ],
   "source": [
    "stats.ttest_ind(users_control.query(\"Group == 'control_1' and uid in @ids\").attraction_coeff,\n",
    "                users_control.query(\"Group == 'control_2' and uid in @ids\").attraction_coeff)"
   ]
  },
  {
   "cell_type": "markdown",
   "metadata": {},
   "source": [
    "p-value > 0.05, в нашем эксперименте привлекательность пользователей в двух контрольных группах стат. значимо не различается, у нас нет оснований отклонить нулевую гипотезу.\n",
    "\n",
    "Теперь посмотрю на то, как разделили премиум пользователей "
   ]
  },
  {
   "cell_type": "code",
   "execution_count": 49,
   "metadata": {},
   "outputs": [
    {
     "data": {
      "text/html": [
       "<div>\n",
       "<style scoped>\n",
       "    .dataframe tbody tr th:only-of-type {\n",
       "        vertical-align: middle;\n",
       "    }\n",
       "\n",
       "    .dataframe tbody tr th {\n",
       "        vertical-align: top;\n",
       "    }\n",
       "\n",
       "    .dataframe thead th {\n",
       "        text-align: right;\n",
       "    }\n",
       "</style>\n",
       "<table border=\"1\" class=\"dataframe\">\n",
       "  <thead>\n",
       "    <tr style=\"text-align: right;\">\n",
       "      <th></th>\n",
       "      <th>Group</th>\n",
       "      <th>was_premium</th>\n",
       "      <th>is_premium</th>\n",
       "    </tr>\n",
       "  </thead>\n",
       "  <tbody>\n",
       "    <tr>\n",
       "      <th>0</th>\n",
       "      <td>control_1</td>\n",
       "      <td>425</td>\n",
       "      <td>186</td>\n",
       "    </tr>\n",
       "    <tr>\n",
       "      <th>1</th>\n",
       "      <td>control_2</td>\n",
       "      <td>397</td>\n",
       "      <td>182</td>\n",
       "    </tr>\n",
       "    <tr>\n",
       "      <th>2</th>\n",
       "      <td>test</td>\n",
       "      <td>398</td>\n",
       "      <td>154</td>\n",
       "    </tr>\n",
       "  </tbody>\n",
       "</table>\n",
       "</div>"
      ],
      "text/plain": [
       "       Group  was_premium  is_premium\n",
       "0  control_1          425         186\n",
       "1  control_2          397         182\n",
       "2       test          398         154"
      ]
     },
     "execution_count": 49,
     "metadata": {},
     "output_type": "execute_result"
    }
   ],
   "source": [
    "was_prem_split = users.groupby('Group', as_index=False) \\\n",
    "                              .agg({'was_premium': 'count'})\n",
    "\n",
    "is_prem_split = users.groupby('Group', as_index=False) \\\n",
    "    .agg({'is_premium': 'count'})\n",
    "\n",
    "was_prem_split.merge(is_prem_split, how = 'left', on = 'Group')\n"
   ]
  },
  {
   "cell_type": "markdown",
   "metadata": {},
   "source": [
    "Подписчиков примерно в 2 раза меньше, чем людей, которые были премиумами, можно соделать вывод, что меньшая часть пользователей выбирает продолжать подписку.\n",
    "\n",
    "\n",
    "Теперь перейду к A/A/B тестированию. Буду считать следующие метрики:\n",
    "    \n",
    "1. AOV в категориях 'trial_premium' и 'premium_no_trial' среди новых пользователей (новыми пользователями буду считать тех, кто зарегистрировался в промежутке проведения эксперимента, т.е всех из таблицы transactions). Ожидаю, что для успешности эксперимента, AOV в тестовой группе должен быть стат. значимо больше;\n",
    "2. конверсия в подписчика. Ожидаю, что среди в тестовой группе конверсия должна стат.значимо повыситься для увспешности эксперимента;\n",
    "3. retention среди новых пользователей. Прокси метрика от которой ожидаю стат. значимое повышение в тестовой группе. Моя гипотеза заключается в том, что изменение цены должно привести к повышения конверсии, а платные пользователи пользуются и возвращаются в приложение чаще обычных;\n",
    "4. количество пользователей в платежных системах 0, 68, 147. Ожидаю, что их количество должно стат. значимо различаться, поскольку изменение, предположительно, произошло в двух из этих систем.\n",
    "\n",
    "Также хотелось бы отметить, что сравнения буду проводить по отобранным ранее странам.  \n",
    "\n",
    "Retention буду рассчитывать по 7 дню, т.к в сфере знакомств пользователи часто принимают решения в течение первых нескольких дней. 7 дней предоставляют достаточно времени для того, чтобы пользователи оценили, насколько приложение соответствует их ожиданиям."
   ]
  },
  {
   "cell_type": "markdown",
   "metadata": {},
   "source": [
    "# Часть 2. A/A/B тестирование. "
   ]
  },
  {
   "cell_type": "markdown",
   "metadata": {},
   "source": [
    "Начну с расчета AOV в категориях 'trial_premium' и 'premium_no_trial' среди новых пользователей. "
   ]
  },
  {
   "cell_type": "code",
   "execution_count": 50,
   "metadata": {},
   "outputs": [],
   "source": [
    "# Беру датасет, в котором только 'trial_premium' и 'premium_no_trial', а также нужные нам страны \n",
    "# P.S страны были отфильтрованы еще на этапе исследования данных.\n",
    "aov_df = transactions.query(\"product_type in ('trial_premium', 'premium_no_trial')\")"
   ]
  },
  {
   "cell_type": "code",
   "execution_count": 51,
   "metadata": {
    "scrolled": false
   },
   "outputs": [
    {
     "data": {
      "text/plain": [
       "Text(0.5, 0, 'Выручка с тразакции')"
      ]
     },
     "execution_count": 51,
     "metadata": {},
     "output_type": "execute_result"
    },
    {
     "data": {
      "image/png": "[encoded data removed]",
      "text/plain": [
       "<Figure size 1440x504 with 1 Axes>"
      ]
     },
     "metadata": {},
     "output_type": "display_data"
    }
   ],
   "source": [
    "sns.histplot(aov_df.revenue)\n",
    "plt.title('Распределение выручки в trial_premium и premium_no_trial')\n",
    "plt.ylabel('Количество')\n",
    "plt.xlabel('Выручка с тразакции')"
   ]
  },
  {
   "cell_type": "markdown",
   "metadata": {},
   "source": [
    "Наблюдаются выбросы, которые были видны и на боксплоте, однако само распределение не такое скошенное. Проведу тест на гомогенность дисперсий и сравню группы при помощи множественного дисперсионного анализа. "
   ]
  },
  {
   "cell_type": "code",
   "execution_count": 52,
   "metadata": {},
   "outputs": [
    {
     "name": "stdout",
     "output_type": "stream",
     "text": [
      "\n",
      "H0 – в генеральной совокупности никакого различия между дисперсиями контрольных групп нет. \n",
      "H1 – дисперсии контрольных групп не равны в генеральной совокупности. \n",
      "P-value: 0.5329292201753082.\n",
      "\n"
     ]
    }
   ],
   "source": [
    "p_value = stats.levene(aov_df.query(\"group == 'test'\").revenue, aov_df.query(\n",
    "    \"group == 'control_1'\").revenue, aov_df.query(\"group == 'control_2'\").revenue)[1]\n",
    "print(f\"\"\"\n",
    "H0 – в генеральной совокупности никакого различия между дисперсиями контрольных групп нет. \n",
    "H1 – дисперсии контрольных групп не равны в генеральной совокупности. \n",
    "P-value: {p_value}.\n",
    "\"\"\")"
   ]
  },
  {
   "cell_type": "markdown",
   "metadata": {},
   "source": [
    "P-value > 0.05, не отвергаем нулевую гипотезу о том, что в генеральной совокупности никакого различия между дисперсиями контрольных групп нет. Перехожу к множесственному дисперсионному анализу."
   ]
  },
  {
   "cell_type": "code",
   "execution_count": 53,
   "metadata": {},
   "outputs": [
    {
     "data": {
      "text/plain": [
       "F_onewayResult(statistic=3.8176840759048245, pvalue=0.022689175050630086)"
      ]
     },
     "execution_count": 53,
     "metadata": {},
     "output_type": "execute_result"
    }
   ],
   "source": [
    "stats.f_oneway(aov_df.query(\"group == 'test'\").revenue, aov_df.query(\n",
    "    \"group == 'control_1'\").revenue, aov_df.query(\"group == 'control_2'\").revenue)"
   ]
  },
  {
   "cell_type": "markdown",
   "metadata": {},
   "source": [
    "H0 – ни один из aov не отличается от другого \n",
    "\n",
    "H1 – хотя бы один aov отличается от других (есть различия как минимум между двумя группами)\n",
    "\n",
    "pvalue=0.02. У нас есть основания отклонить H0 и принять альтернативную гипотезу о том, что, как минимум, между двумя группами есть стат. значимое различие. \n",
    "\n",
    "Теперь проведу попарное сравнение при помощи критерия Тьюки для определения между какими конкретно группами есть статистические различия."
   ]
  },
  {
   "cell_type": "code",
   "execution_count": 54,
   "metadata": {},
   "outputs": [
    {
     "name": "stdout",
     "output_type": "stream",
     "text": [
      "      Multiple Comparison of Means - Tukey HSD, FWER=0.05       \n",
      "================================================================\n",
      "  group1    group2   meandiff p-adj    lower      upper   reject\n",
      "----------------------------------------------------------------\n",
      "control_1 control_2 -285.5446    0.9 -2932.3918 2361.3027  False\n",
      "control_1      test 2696.3241 0.0529   -26.5203 5419.1685  False\n",
      "control_2      test 2981.8687 0.0332   187.5963  5776.141   True\n",
      "----------------------------------------------------------------\n"
     ]
    }
   ],
   "source": [
    "print(pairwise_tukeyhsd(aov_df.revenue, aov_df.group))"
   ]
  },
  {
   "cell_type": "markdown",
   "metadata": {},
   "source": [
    "H0 – в генеральной совокупности никакого различия между AOV нет.\n",
    "H1 – AOV в генеральной совокупности не равны.\n",
    "\n",
    "Близок к порогу уровня значимости оказался p-value между первой контрольной и тестовой группой, однако все же не перешел его => не можем отклонить нулевую гипотезу.\n",
    "\n",
    "P-value < 0.05 между второй контрольной и тестовой группой, принимаем альтернативную гипотезу о том, что в генеральной совокупности есть стат. значимая разница в среднем чеке транзакции в категориях, связанных с попдисками в исследуемых странах."
   ]
  },
  {
   "cell_type": "code",
   "execution_count": 55,
   "metadata": {},
   "outputs": [
    {
     "data": {
      "text/html": [
       "<style  type=\"text/css\" >\n",
       "</style><table id=\"T_9f0451f2_3aa4_11ee_bdbb_96000040dfb6\" ><caption>AOV по группам в категориях с подписками</caption><thead>    <tr>        <th class=\"blank level0\" ></th>        <th class=\"col_heading level0 col0\" >group</th>        <th class=\"col_heading level0 col1\" >aov</th>    </tr></thead><tbody>\n",
       "                <tr>\n",
       "                        <th id=\"T_9f0451f2_3aa4_11ee_bdbb_96000040dfb6level0_row0\" class=\"row_heading level0 row0\" >0</th>\n",
       "                        <td id=\"T_9f0451f2_3aa4_11ee_bdbb_96000040dfb6row0_col0\" class=\"data row0 col0\" >control_1</td>\n",
       "                        <td id=\"T_9f0451f2_3aa4_11ee_bdbb_96000040dfb6row0_col1\" class=\"data row0 col1\" >9056.153846</td>\n",
       "            </tr>\n",
       "            <tr>\n",
       "                        <th id=\"T_9f0451f2_3aa4_11ee_bdbb_96000040dfb6level0_row1\" class=\"row_heading level0 row1\" >1</th>\n",
       "                        <td id=\"T_9f0451f2_3aa4_11ee_bdbb_96000040dfb6row1_col0\" class=\"data row1 col0\" >control_2</td>\n",
       "                        <td id=\"T_9f0451f2_3aa4_11ee_bdbb_96000040dfb6row1_col1\" class=\"data row1 col1\" >8770.609272</td>\n",
       "            </tr>\n",
       "            <tr>\n",
       "                        <th id=\"T_9f0451f2_3aa4_11ee_bdbb_96000040dfb6level0_row2\" class=\"row_heading level0 row2\" >2</th>\n",
       "                        <td id=\"T_9f0451f2_3aa4_11ee_bdbb_96000040dfb6row2_col0\" class=\"data row2 col0\" >test</td>\n",
       "                        <td id=\"T_9f0451f2_3aa4_11ee_bdbb_96000040dfb6row2_col1\" class=\"data row2 col1\" >11752.477941</td>\n",
       "            </tr>\n",
       "    </tbody></table>"
      ],
      "text/plain": [
       "<pandas.io.formats.style.Styler at 0x7f877c288358>"
      ]
     },
     "execution_count": 55,
     "metadata": {},
     "output_type": "execute_result"
    }
   ],
   "source": [
    "aov_groupped = aov_df.groupby(\"group\", as_index = False) \\\n",
    "                     .agg(aov = ('revenue', 'mean'))\n",
    "aov_groupped.style.set_caption(\"AOV по группам в категориях с подписками\")"
   ]
  },
  {
   "cell_type": "markdown",
   "metadata": {},
   "source": [
    "Средний чек во второй контрольной группой в нашем эксперименте стат. значимо увеличился.\n",
    "\n",
    "\n",
    "Теперь перехожу к рассмотрению retention."
   ]
  },
  {
   "cell_type": "code",
   "execution_count": 56,
   "metadata": {},
   "outputs": [
    {
     "name": "stderr",
     "output_type": "stream",
     "text": [
      "/opt/tljh/user/lib/python3.7/site-packages/ipykernel_launcher.py:7: SettingWithCopyWarning: \n",
      "A value is trying to be set on a copy of a slice from a DataFrame.\n",
      "Try using .loc[row_indexer,col_indexer] = value instead\n",
      "\n",
      "See the caveats in the documentation: https://pandas.pydata.org/pandas-docs/stable/user_guide/indexing.html#returning-a-view-versus-a-copy\n",
      "  import sys\n",
      "/opt/tljh/user/lib/python3.7/site-packages/ipykernel_launcher.py:10: SettingWithCopyWarning: \n",
      "A value is trying to be set on a copy of a slice from a DataFrame.\n",
      "Try using .loc[row_indexer,col_indexer] = value instead\n",
      "\n",
      "See the caveats in the documentation: https://pandas.pydata.org/pandas-docs/stable/user_guide/indexing.html#returning-a-view-versus-a-copy\n",
      "  # Remove the CWD from sys.path while we load stuff.\n",
      "/opt/tljh/user/lib/python3.7/site-packages/ipykernel_launcher.py:11: SettingWithCopyWarning: \n",
      "A value is trying to be set on a copy of a slice from a DataFrame.\n",
      "Try using .loc[row_indexer,col_indexer] = value instead\n",
      "\n",
      "See the caveats in the documentation: https://pandas.pydata.org/pandas-docs/stable/user_guide/indexing.html#returning-a-view-versus-a-copy\n",
      "  # This is added back by InteractiveShellApp.init_path()\n"
     ]
    }
   ],
   "source": [
    "# Распарсю visit_days\n",
    "# Оставлю только премиум пользователей\n",
    "\n",
    "new_users = list(transactions.uid.unique())\n",
    "retention = users.query(\"uid in @new_users\")\n",
    "\n",
    "retention['visit_days'] = retention['visit_days'].fillna(0)\n",
    "\n",
    "retention['visit_days'] = retention['visit_days'].apply(\n",
    "    lambda x: '[' + str(x) + ']')\n",
    "retention['visit_days'] = retention['visit_days'].apply(literal_eval)\n",
    "\n",
    "retention = retention.explode('visit_days')"
   ]
  },
  {
   "cell_type": "code",
   "execution_count": 57,
   "metadata": {},
   "outputs": [],
   "source": [
    "# Буду считать retention 7 дня.\n",
    "# Проставляю маркер ретеншона\n",
    "\n",
    "retention['retention'] = np.where(retention['visit_days'] == 7, 1, 0)"
   ]
  },
  {
   "cell_type": "code",
   "execution_count": 58,
   "metadata": {
    "scrolled": true
   },
   "outputs": [],
   "source": [
    "retention_seven = retention.groupby(['uid', 'Group', 'is_premium', 'country'], as_index=False) \\\n",
    "                           .agg({'retention': 'sum'}) \\\n",
    "                           .sort_values('retention', ascending=False)"
   ]
  },
  {
   "cell_type": "code",
   "execution_count": 59,
   "metadata": {
    "scrolled": true
   },
   "outputs": [
    {
     "name": "stdout",
     "output_type": "stream",
     "text": [
      "\n",
      "Retention 7 дня в 1 контрольной группе равен 49.34 %\n",
      "Retention 7 дня во 2 контрольной группе равен 56.03 %\n",
      "Retention 7 дня в тестовой группе равен 52.07 %\n",
      "        \n"
     ]
    }
   ],
   "source": [
    "retention_control_1 = round(retention_seven.query(\n",
    "    \"Group == 'control_1'\").retention.mean() * 100, 2)\n",
    "retention_control_2 = round(retention_seven.query(\n",
    "    \"Group == 'control_2'\").retention.mean() * 100, 2)\n",
    "retention_test = round(retention_seven.query(\n",
    "    \"Group == 'test'\").retention.mean() * 100, 2)\n",
    "\n",
    "print(f\"\"\"\n",
    "Retention 7 дня в 1 контрольной группе равен {retention_control_1} %\n",
    "Retention 7 дня во 2 контрольной группе равен {retention_control_2} %\n",
    "Retention 7 дня в тестовой группе равен {retention_test} %\n",
    "        \"\"\"\n",
    "      )"
   ]
  },
  {
   "cell_type": "code",
   "execution_count": 60,
   "metadata": {},
   "outputs": [
    {
     "data": {
      "text/plain": [
       "Power_divergenceResult(statistic=0.431215701219512, pvalue=0.8060513324423549)"
      ]
     },
     "execution_count": 60,
     "metadata": {},
     "output_type": "execute_result"
    }
   ],
   "source": [
    "retention = [retention_control_1, retention_control_2, retention_test]\n",
    "stats.chisquare(f_obs=retention)"
   ]
  },
  {
   "cell_type": "markdown",
   "metadata": {},
   "source": [
    "H0 - Нет статистически значимой разницы в уровне удержания между группами.\n",
    "\n",
    "H1 - Существует статистически значимая разница в уровне удержания между группами.\n",
    "\n",
    "P-value > 0.05 (0.8), следовательно у нас нет оснований отклонить нулевую гипотезу, делаю вывод, что нас эксперимент не показал стат. значимое различие в retention по странам. \n",
    "\n",
    "Теперь перейду к расчету конверсии в подписчика."
   ]
  },
  {
   "cell_type": "code",
   "execution_count": 61,
   "metadata": {},
   "outputs": [],
   "source": [
    "# Заполняю нулями пропущенные значения\n",
    "users['was_premium'] = users['was_premium'].fillna(0)\n",
    "users['is_premium'] = users['was_premium'].fillna(0)\n",
    "\n",
    "# создаю датафрейм для расчета конверсии\n",
    "conversion_df = users"
   ]
  },
  {
   "cell_type": "code",
   "execution_count": 62,
   "metadata": {
    "scrolled": true
   },
   "outputs": [
    {
     "data": {
      "text/html": [
       "<style  type=\"text/css\" >\n",
       "</style><table id=\"T_9f0451f3_3aa4_11ee_bdbb_96000040dfb6\" ><caption>Конверсия из пользователя в подписчика</caption><thead>    <tr>        <th class=\"blank level0\" ></th>        <th class=\"col_heading level0 col0\" >control_1</th>        <th class=\"col_heading level0 col1\" >control_2</th>        <th class=\"col_heading level0 col2\" >test</th>    </tr></thead><tbody>\n",
       "                <tr>\n",
       "                        <th id=\"T_9f0451f3_3aa4_11ee_bdbb_96000040dfb6level0_row0\" class=\"row_heading level0 row0\" >0</th>\n",
       "                        <td id=\"T_9f0451f3_3aa4_11ee_bdbb_96000040dfb6row0_col0\" class=\"data row0 col0\" >0.101456</td>\n",
       "                        <td id=\"T_9f0451f3_3aa4_11ee_bdbb_96000040dfb6row0_col1\" class=\"data row0 col1\" >0.096829</td>\n",
       "                        <td id=\"T_9f0451f3_3aa4_11ee_bdbb_96000040dfb6row0_col2\" class=\"data row0 col2\" >0.096089</td>\n",
       "            </tr>\n",
       "    </tbody></table>"
      ],
      "text/plain": [
       "<pandas.io.formats.style.Styler at 0x7f8790857860>"
      ]
     },
     "execution_count": 62,
     "metadata": {},
     "output_type": "execute_result"
    }
   ],
   "source": [
    "# Для начала беру количество уникальных пользователей по группам\n",
    "# У каждой строчки уникальный пользователь, дубликатов нет\n",
    "users_control1 = conversion_df.query(\"Group == 'control_1'\").uid.nunique()\n",
    "users_control2 = conversion_df.query(\"Group == 'control_2'\").uid.nunique()\n",
    "users_test = conversion_df.query(\"Group == 'test'\").uid.nunique()\n",
    "\n",
    "# Беру количество платных подписчиков.\n",
    "# Пользователей, которые когда-то были подписчиками тоже буду считать сконевртированными \n",
    "prems_control1 = conversion_df.query(\n",
    "    \"Group == 'control_1' and (is_premium == 1 or was_premium ==1)\").shape[0]\n",
    "prems_control2 = conversion_df.query(\n",
    "    \"Group == 'control_2' and (is_premium == 1 or was_premium == 1)\").shape[0]\n",
    "prems_test = conversion_df.query(\n",
    "    \"Group == 'test' and (is_premium == 1 or was_premium == 1)\").shape[0]\n",
    "\n",
    "# Считаю конверсию в подписчика\n",
    "cr_control1 = prems_control1 / users_control1\n",
    "cr_control2 = prems_control2 / users_control2\n",
    "cr_test = prems_test / users_test\n",
    "\n",
    "conversion = pd.DataFrame(\n",
    "    {'control_1': cr_control1, 'control_2': cr_control2, 'test': cr_test}, index=[0])\n",
    "conversion = conversion.style.set_caption(\"Конверсия из пользователя в подписчика\")\n",
    "conversion"
   ]
  },
  {
   "cell_type": "code",
   "execution_count": 63,
   "metadata": {},
   "outputs": [],
   "source": [
    "conversion = [cr_control1, cr_control2, cr_test]"
   ]
  },
  {
   "cell_type": "code",
   "execution_count": 64,
   "metadata": {},
   "outputs": [
    {
     "data": {
      "text/plain": [
       "Power_divergenceResult(statistic=0.00017245087618674424, pvalue=0.9999137782792129)"
      ]
     },
     "execution_count": 64,
     "metadata": {},
     "output_type": "execute_result"
    }
   ],
   "source": [
    "stats.chisquare(f_obs=conversion)"
   ]
  },
  {
   "cell_type": "markdown",
   "metadata": {},
   "source": [
    "H0 - Нет статистически значимой разницы в уровне удержания между группами.\n",
    "\n",
    "H1 - Существует статистически значимая разница в уровне удержания между группами.\n",
    "\n",
    "P-value > 0.05 (0.99), следовательно у нас нет оснований отклонить нулевую гипотезу, делаю вывод, что нас эксперимент не показал стат. значимое различие в конверсию в подписчика по странам. \n",
    "\n",
    "Последняя метрика, которую я хотел проверить - количество пользователей в платежных системах 0, 68, 147 в исследумеых странах. Использовать буду таблицы сопряженности. "
   ]
  },
  {
   "cell_type": "code",
   "execution_count": 65,
   "metadata": {},
   "outputs": [],
   "source": [
    "payment_systems = transactions.query(\"payment_id in (0, 68, 147)\")"
   ]
  },
  {
   "cell_type": "code",
   "execution_count": 66,
   "metadata": {},
   "outputs": [],
   "source": [
    "payment_cross = pd.crosstab(payment_systems.payment_id, payment_systems.group)"
   ]
  },
  {
   "cell_type": "code",
   "execution_count": 67,
   "metadata": {},
   "outputs": [
    {
     "data": {
      "text/plain": [
       "(1.455230289110335,\n",
       " 0.8345411582465603,\n",
       " 4,\n",
       " array([[  1.48695652,   1.31304348,   1.2       ],\n",
       "        [ 15.98478261,  14.11521739,  12.9       ],\n",
       "        [153.52826087, 135.57173913, 123.9       ]]))"
      ]
     },
     "execution_count": 67,
     "metadata": {},
     "output_type": "execute_result"
    }
   ],
   "source": [
    "res = chi2_contingency(payment_cross[['control_1', 'control_2', 'test']])\n",
    "res"
   ]
  },
  {
   "cell_type": "markdown",
   "metadata": {},
   "source": [
    "H0 - Нет статистически значимой связи между группами пользователей и выбором платежных систем.\n",
    "\n",
    "H1 - Существует статистически значимая связь между группами пользователей и выбором платежных систем.\n",
    "\n",
    "P-value > 0.05 (0.83), у нас нет оснований отклонять нулевую гипотезу => делаем вывод, что в нашем эксперименте нет статистически значимой связи между группами пользователей и выбором платежных систем."
   ]
  },
  {
   "cell_type": "markdown",
   "metadata": {},
   "source": [
    "# Вывод"
   ]
  },
  {
   "cell_type": "markdown",
   "metadata": {},
   "source": [
    "Мною было обнаружено несколько проблем в организации эксперимента: \n",
    "1. В датафрейм первой контрольной группы попало больше половины Null значений;\n",
    "2. отсутствует точность, как минимум, до секунд в колонка со временем;\n",
    "3. отсутствие информации о регистрации в таблицах users.\n",
    "\n",
    "Для оценки результатов эксперимента выбрал следующие метрики:\n",
    "\n",
    "1. AOV в категориях 'trial_premium' и 'premium_no_trial' среди новых пользователей. Ожидаюлось, что AOV в тестовой группе должен быть стат. значимо больше;\n",
    "2. конверсия в подписчика. Ожидалось, что среди в тестовой группе конверсия должна стат.значимо повыситься;\n",
    "3. retention среди новых пользователей. Прокси метрика от которой ожидалось стат. значимое повышение в тестовой группе. Моя гипотеза заключалась в том, что изменение цены должно привести к повышения конверсии, а платные пользователи пользуются и возвращаются в приложение чаще обычных;\n",
    "4. количество пользователей в платежных системах 0, 68, 147. Ожидалось, что их количество должно стат. значимо различаться, поскольку изменение, предположительно, произошло в двух из этих систем.\n",
    "\n",
    "Пришел к следующим выводам:\n",
    "\n",
    "У нас есть основания предположить, что в тестовой группе стат. значимо увеличился средний чек по сравнению со второй контрольной группой в категориях 'trial_premium' и 'premium_no_trial'. \n",
    "\n",
    "Стат. значимых различий в конверсии и удержании (7 дня) мною обнаружено не было, также не было обнаружено стат. значимых различий в количестве пользователей платежных систем 0, 68, 147. \n",
    "\n",
    "В целом, считаю, что эксперимент скорее неудачный, чем удачный, поскольку кроме AOV стат. значимо не увеличилось ничего (хоть это и хорошо). Ожидалось, что из-за изменения цены повысится конверсия в подписчика (percentage of users who are paid - North Star Metric тиндера. Источник: https://future.com/north-star-metrics/), количество пользователей в платежных системах также стат. значимо не увиличилось (хотя кажется, что изменение цены должно быть драйверов к использованию именно этих систем), прокси метрика ретеншона тоже стат. значимо не увеличилась.\n",
    "\n",
    "В работе были использованы следующие статистические тесты:\n",
    "\n",
    "1. Дисперсионный анализ;\n",
    "2. множественный дисперсионный анализ;\n",
    "3. критерий Тьюки;\n",
    "4. хи-квадрат;\n",
    "5. таблицы сопряженности;\n",
    "6. t-test."
   ]
  }
 ],
 "metadata": {
  "kernelspec": {
   "display_name": "Python 3",
   "language": "python",
   "name": "python3"
  },
  "language_info": {
   "codemirror_mode": {
    "name": "ipython",
    "version": 3
   },
   "file_extension": ".py",
   "mimetype": "text/x-python",
   "name": "python",
   "nbconvert_exporter": "python",
   "pygments_lexer": "ipython3",
   "version": "3.7.3"
  }
 },
 "nbformat": 4,
 "nbformat_minor": 4
}
